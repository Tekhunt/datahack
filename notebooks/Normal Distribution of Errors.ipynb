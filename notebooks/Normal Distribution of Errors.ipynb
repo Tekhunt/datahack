{
 "cells": [
  {
   "cell_type": "markdown",
   "id": "f07fc511-e9b5-4200-b1d4-434a4aec116d",
   "metadata": {},
   "source": [
    "## \"Normal Distribution of Errors\" assumption means. \n",
    "\n",
    "This implies that the errors (residuals) resulting from a statistical model or measurement process should follow a normal (Gaussian) distribution. This assumption is crucial for various statistical methods, such as linear regression."
   ]
  },
  {
   "cell_type": "markdown",
   "id": "a6c59165-db9d-49dc-8b95-eb94b3f35ea3",
   "metadata": {},
   "source": [
    "### Steps to follow\n",
    "\n",
    "##### Feature Engineering\n",
    "\n",
    "create a group_location function that group the categories that represent less than a set threshold, [default is 0.01 ( i.e 1%)] of the dataset into an Other category\n",
    "\n",
    "##### Fit a Statistical Model:\n",
    "\n",
    "Fit the appropriate statistical model to the dataset. For example,  fit a linear regression model to the data.\n",
    "    \n",
    "##### Compute Residuals:\n",
    "\n",
    "Calculate the residuals by subtracting the observed values from the predicted values obtained from the model. Residuals represent the errors of the model, and their distribution is what we're interested in.\n",
    "\n",
    "##### Visual Inspection:\n",
    "\n",
    "Plot a histogram of the residuals to visually inspect their distribution. The histogram should provide an initial indication of whether the residuals approximately follow a normal distribution. \n",
    "\n",
    "##### Quantile-Quantile (Q-Q) Plot:\n",
    "\n",
    "Create a Q-Q plot (Quantile-Quantile plot) of the residuals against a theoretical normal distribution. In a Q-Q plot, if the residuals follow a normal distribution, the points should fall approximately along a straight line. Deviations from a straight line suggest departures from normality.\n",
    "\n",
    "##### Statistical Tests:\n",
    "\n",
    "Perform formal statistical tests to assess the normality of the residuals. Common tests include the Shapiro-Wilk test, Kolmogorov-Smirnov test, and Anderson-Darling test. These tests provide p-values, which indicate whether the null hypothesis of normality can be rejected or not. A high p-value suggests that the data are consistent with a normal distribution.\n",
    "\n",
    "##### Interpret Results:\n",
    "\n",
    "Based on the visual inspection and statistical tests, interpret the results. If the residuals exhibit a symmetric distribution around zero with no significant departures from normality according to both visual and statistical assessments, then the assumption of normal distribution of errors is considered met.\n",
    "\n",
    "##### Report Findings:\n",
    "\n",
    "Finally, report findings, including any limitations or assumptions made during the analysis."
   ]
  },
  {
   "cell_type": "code",
   "execution_count": 1,
   "id": "56a4002c-96f8-4c89-a5d1-3997c0fa65b7",
   "metadata": {},
   "outputs": [],
   "source": [
    "import pandas as pd\n",
    "import statsmodels.api as sm\n",
    "import matplotlib.pyplot as plt\n",
    "import scipy.stats as stats"
   ]
  },
  {
   "cell_type": "code",
   "execution_count": 3,
   "id": "b4716d2f-2503-4ae2-af70-e6f61b891443",
   "metadata": {},
   "outputs": [],
   "source": [
    "data = 'cleaned_df.zip'"
   ]
  },
  {
   "cell_type": "code",
   "execution_count": null,
   "id": "88c1c1a4-6c23-42ea-8bd9-7cd03d5cc73b",
   "metadata": {},
   "outputs": [
    {
     "ename": "",
     "evalue": "",
     "output_type": "error",
     "traceback": [
      "\u001b[1;31mFailed to start the Kernel. \n",
      "\u001b[1;31mUnable to start Kernel 'python (Python 3.9.18)' due to a timeout waiting for the ports to get used. \n",
      "\u001b[1;31mView Jupyter <a href='command:jupyter.viewOutput'>log</a> for further details."
     ]
    }
   ],
   "source": [
    "df = pd.read_csv(data, index_col=0)"
   ]
  },
  {
   "cell_type": "code",
   "execution_count": null,
   "id": "70697d03-3069-41dd-8eb2-9654257d5bd6",
   "metadata": {},
   "outputs": [
    {
     "ename": "",
     "evalue": "",
     "output_type": "error",
     "traceback": [
      "\u001b[1;31mFailed to start the Kernel. \n",
      "\u001b[1;31mUnable to start Kernel 'python (Python 3.9.18)' due to a timeout waiting for the ports to get used. \n",
      "\u001b[1;31mView Jupyter <a href='command:jupyter.viewOutput'>log</a> for further details."
     ]
    }
   ],
   "source": [
    "df.head()"
   ]
  },
  {
   "cell_type": "code",
   "execution_count": null,
   "id": "99310a98-9de3-4d14-83b5-878a459dc4bb",
   "metadata": {},
   "outputs": [
    {
     "ename": "",
     "evalue": "",
     "output_type": "error",
     "traceback": [
      "\u001b[1;31mFailed to start the Kernel. \n",
      "\u001b[1;31mUnable to start Kernel 'python (Python 3.9.18)' due to a timeout waiting for the ports to get used. \n",
      "\u001b[1;31mView Jupyter <a href='command:jupyter.viewOutput'>log</a> for further details."
     ]
    }
   ],
   "source": [
    "df.shape"
   ]
  },
  {
   "cell_type": "markdown",
   "id": "2e6f78f5-479b-4157-9833-eae74b70c0d5",
   "metadata": {},
   "source": [
    "### Feature Engineering\n",
    "\n",
    "Find the number of unique values in the categorical columns"
   ]
  },
  {
   "cell_type": "code",
   "execution_count": null,
   "id": "3a225062-0f73-417c-80f6-a54ed8cd70a2",
   "metadata": {},
   "outputs": [
    {
     "ename": "",
     "evalue": "",
     "output_type": "error",
     "traceback": [
      "\u001b[1;31mFailed to start the Kernel. \n",
      "\u001b[1;31mUnable to start Kernel 'python (Python 3.9.18)' due to a timeout waiting for the ports to get used. \n",
      "\u001b[1;31mView Jupyter <a href='command:jupyter.viewOutput'>log</a> for further details."
     ]
    }
   ],
   "source": [
    "len(df['location'].unique())"
   ]
  },
  {
   "cell_type": "markdown",
   "id": "5b6823ca-0750-4bdb-8004-da400e6fb4a3",
   "metadata": {},
   "source": [
    "Seeing that the categorical column location has over 800 unique values, using One-Hot Encoding on this column will increase the dimensionality of the dataset. High dimensionality can lead to the curse of dimensionality, where models have a hard time learning patterns due to the vast feature space.\n",
    "\n",
    "To prevent this, I'll create a group_location function that group the categories that represent less than a set threshold, [default is 0.01 ( i.e 1%)] of the dataset into an Other category"
   ]
  },
  {
   "cell_type": "code",
   "execution_count": null,
   "id": "c5c90ee4-a3aa-42a6-a0a8-0f88891e5961",
   "metadata": {},
   "outputs": [
    {
     "ename": "",
     "evalue": "",
     "output_type": "error",
     "traceback": [
      "\u001b[1;31mFailed to start the Kernel. \n",
      "\u001b[1;31mUnable to start Kernel 'python (Python 3.9.18)' due to a timeout waiting for the ports to get used. \n",
      "\u001b[1;31mView Jupyter <a href='command:jupyter.viewOutput'>log</a> for further details."
     ]
    }
   ],
   "source": [
    "def group_location(threshold= 0.01):\n",
    "    '''\n",
    "    This funciton takes in a threshold and groups the unique locations whose total number of\n",
    "    rows/observations does not go meet the set threshold into the general category 'Other'.\n",
    "\n",
    "    The function returns the result of the value_counts() method of the location column.\n",
    "\n",
    "    Input:\n",
    "    threshold - float between 0 and 1 \n",
    "\n",
    "    Return:\n",
    "    It returns the unique categories and the total number of values each unique category has\n",
    "\n",
    "\n",
    "    '''\n",
    "    counts = df['location'].value_counts(normalize=True)\n",
    "\n",
    "\n",
    "    # Get the categories that represent less than set threshold\n",
    "    other_categories = counts[counts < threshold].index\n",
    "\n",
    "    # Replace these categorwies with 'Other' \n",
    "    df['location'] = df['location'].replace(other_categories, 'Other')\n",
    "\n",
    "    \n",
    "\n",
    "    return df['location'].value_counts()\n"
   ]
  },
  {
   "cell_type": "code",
   "execution_count": null,
   "id": "1d282e39-03e4-41de-8da7-6205c6b07756",
   "metadata": {},
   "outputs": [
    {
     "ename": "",
     "evalue": "",
     "output_type": "error",
     "traceback": [
      "\u001b[1;31mFailed to start the Kernel. \n",
      "\u001b[1;31mUnable to start Kernel 'python (Python 3.9.18)' due to a timeout waiting for the ports to get used. \n",
      "\u001b[1;31mView Jupyter <a href='command:jupyter.viewOutput'>log</a> for further details."
     ]
    }
   ],
   "source": [
    "group_location()"
   ]
  },
  {
   "cell_type": "markdown",
   "id": "13d46554-fb1f-4df4-8fd1-30e9efd91e1d",
   "metadata": {},
   "source": [
    "#### Encode the categorical column"
   ]
  },
  {
   "cell_type": "code",
   "execution_count": null,
   "id": "79f91b00-16a0-45bb-af0b-33ba5f4ef8b9",
   "metadata": {},
   "outputs": [
    {
     "ename": "",
     "evalue": "",
     "output_type": "error",
     "traceback": [
      "\u001b[1;31mFailed to start the Kernel. \n",
      "\u001b[1;31mUnable to start Kernel 'python (Python 3.9.18)' due to a timeout waiting for the ports to get used. \n",
      "\u001b[1;31mView Jupyter <a href='command:jupyter.viewOutput'>log</a> for further details."
     ]
    }
   ],
   "source": [
    "df_encoded = pd.get_dummies(df, drop_first=True)\n",
    "df_encoded.head()"
   ]
  },
  {
   "cell_type": "code",
   "execution_count": null,
   "id": "8740339e-9586-40b1-86cb-1614244768e8",
   "metadata": {},
   "outputs": [
    {
     "ename": "",
     "evalue": "",
     "output_type": "error",
     "traceback": [
      "\u001b[1;31mFailed to start the Kernel. \n",
      "\u001b[1;31mUnable to start Kernel 'python (Python 3.9.18)' due to a timeout waiting for the ports to get used. \n",
      "\u001b[1;31mView Jupyter <a href='command:jupyter.viewOutput'>log</a> for further details."
     ]
    }
   ],
   "source": [
    "encoded_cols = [cols for cols in df_encoded.columns if cols.startswith('location_')]\n",
    "\n",
    "for col in encoded_cols:\n",
    "    df_encoded[col] = df_encoded[col].astype(int)\n",
    "\n",
    "df_encoded.head()"
   ]
  },
  {
   "cell_type": "code",
   "execution_count": null,
   "id": "d93c8cfb-c7bc-4796-ac67-e22eea189cc4",
   "metadata": {},
   "outputs": [
    {
     "ename": "",
     "evalue": "",
     "output_type": "error",
     "traceback": [
      "\u001b[1;31mFailed to start the Kernel. \n",
      "\u001b[1;31mUnable to start Kernel 'python (Python 3.9.18)' due to a timeout waiting for the ports to get used. \n",
      "\u001b[1;31mView Jupyter <a href='command:jupyter.viewOutput'>log</a> for further details."
     ]
    }
   ],
   "source": [
    "df_encoded.info()"
   ]
  },
  {
   "cell_type": "markdown",
   "id": "ddbc8abf-d53b-4c08-9720-eb8904fd77c2",
   "metadata": {},
   "source": [
    "### Fit a Statistical Model"
   ]
  },
  {
   "cell_type": "code",
   "execution_count": null,
   "id": "08dc49c7-74bd-477e-810f-afd7d450c1db",
   "metadata": {},
   "outputs": [
    {
     "ename": "",
     "evalue": "",
     "output_type": "error",
     "traceback": [
      "\u001b[1;31mFailed to start the Kernel. \n",
      "\u001b[1;31mUnable to start Kernel 'python (Python 3.9.18)' due to a timeout waiting for the ports to get used. \n",
      "\u001b[1;31mView Jupyter <a href='command:jupyter.viewOutput'>log</a> for further details."
     ]
    }
   ],
   "source": [
    "X = df_encoded.drop('price', axis=1)\n",
    "y = df_encoded['price']\n",
    "\n",
    "\n",
    "# Add a constant term for the intercept\n",
    "X = sm.add_constant(X)  \n",
    "\n",
    "\n",
    "# Fit the OLS model that includes an intercept term\n",
    "model = sm.OLS(y, X).fit()"
   ]
  },
  {
   "cell_type": "markdown",
   "id": "42024830-587a-42ac-bcef-a3fc8eddc5f8",
   "metadata": {},
   "source": [
    "### Compute Residuals"
   ]
  },
  {
   "cell_type": "code",
   "execution_count": null,
   "id": "40979788-f9a4-4038-8af6-990465df86b1",
   "metadata": {},
   "outputs": [
    {
     "ename": "",
     "evalue": "",
     "output_type": "error",
     "traceback": [
      "\u001b[1;31mFailed to start the Kernel. \n",
      "\u001b[1;31mUnable to start Kernel 'python (Python 3.9.18)' due to a timeout waiting for the ports to get used. \n",
      "\u001b[1;31mView Jupyter <a href='command:jupyter.viewOutput'>log</a> for further details."
     ]
    }
   ],
   "source": [
    "residuals = model.resid\n",
    "residuals"
   ]
  },
  {
   "cell_type": "markdown",
   "id": "dfde5ac0-89fc-4359-9acb-569601e69919",
   "metadata": {},
   "source": [
    "### Visual Inspection"
   ]
  },
  {
   "cell_type": "code",
   "execution_count": null,
   "id": "9723a0b0-cce4-4663-9805-beffd84fefe8",
   "metadata": {},
   "outputs": [
    {
     "ename": "",
     "evalue": "",
     "output_type": "error",
     "traceback": [
      "\u001b[1;31mFailed to start the Kernel. \n",
      "\u001b[1;31mUnable to start Kernel 'python (Python 3.9.18)' due to a timeout waiting for the ports to get used. \n",
      "\u001b[1;31mView Jupyter <a href='command:jupyter.viewOutput'>log</a> for further details."
     ]
    }
   ],
   "source": [
    "plt.hist(residuals, bins=30, edgecolor='black')\n",
    "plt.xlabel('Residuals')\n",
    "plt.ylabel('Frequency')\n",
    "plt.title('Histogram of Residuals')\n",
    "plt.grid(True)\n",
    "plt.show()"
   ]
  },
  {
   "cell_type": "code",
   "execution_count": null,
   "id": "cf48dd88-8d89-429e-b3c7-b6fe4da18caa",
   "metadata": {},
   "outputs": [
    {
     "ename": "",
     "evalue": "",
     "output_type": "error",
     "traceback": [
      "\u001b[1;31mFailed to start the Kernel. \n",
      "\u001b[1;31mUnable to start Kernel 'python (Python 3.9.18)' due to a timeout waiting for the ports to get used. \n",
      "\u001b[1;31mView Jupyter <a href='command:jupyter.viewOutput'>log</a> for further details."
     ]
    }
   ],
   "source": []
  },
  {
   "cell_type": "markdown",
   "id": "a32a253a-b09f-4657-bf06-080f27d15a96",
   "metadata": {},
   "source": [
    "### Quantile-Quantile (Q-Q) Plot"
   ]
  },
  {
   "cell_type": "code",
   "execution_count": null,
   "id": "5cb95942-b4fa-459b-9d3b-f306a6852c10",
   "metadata": {},
   "outputs": [
    {
     "ename": "",
     "evalue": "",
     "output_type": "error",
     "traceback": [
      "\u001b[1;31mFailed to start the Kernel. \n",
      "\u001b[1;31mUnable to start Kernel 'python (Python 3.9.18)' due to a timeout waiting for the ports to get used. \n",
      "\u001b[1;31mView Jupyter <a href='command:jupyter.viewOutput'>log</a> for further details."
     ]
    }
   ],
   "source": [
    "sm.qqplot(residuals, line ='45')\n",
    "plt.title('Q-Q Plot of Residuals')\n",
    "plt.xlabel('Theoretical Quantiles')\n",
    "plt.ylabel('Sample Quantiles')\n",
    "plt.grid(True)\n",
    "plt.show()"
   ]
  },
  {
   "cell_type": "markdown",
   "id": "2700cbb2-8740-46a0-a5a7-8410d0129c24",
   "metadata": {},
   "source": [
    "### Statistical Tests"
   ]
  },
  {
   "cell_type": "code",
   "execution_count": null,
   "id": "822f5e59-a91e-4cf5-9b27-fb08c2eba2a3",
   "metadata": {},
   "outputs": [
    {
     "ename": "",
     "evalue": "",
     "output_type": "error",
     "traceback": [
      "\u001b[1;31mFailed to start the Kernel. \n",
      "\u001b[1;31mUnable to start Kernel 'python (Python 3.9.18)' due to a timeout waiting for the ports to get used. \n",
      "\u001b[1;31mView Jupyter <a href='command:jupyter.viewOutput'>log</a> for further details."
     ]
    }
   ],
   "source": [
    "res = residuals.sample(30)\n",
    "res"
   ]
  },
  {
   "cell_type": "code",
   "execution_count": null,
   "id": "d04b722d-db18-4789-899c-5c0c25e5aae7",
   "metadata": {},
   "outputs": [
    {
     "ename": "",
     "evalue": "",
     "output_type": "error",
     "traceback": [
      "\u001b[1;31mFailed to start the Kernel. \n",
      "\u001b[1;31mUnable to start Kernel 'python (Python 3.9.18)' due to a timeout waiting for the ports to get used. \n",
      "\u001b[1;31mView Jupyter <a href='command:jupyter.viewOutput'>log</a> for further details."
     ]
    }
   ],
   "source": [
    "\n",
    "# Shapiro-Wilk test\n",
    "shapiro_test_stat, shapiro_p_value = stats.shapiro(res)\n",
    "print(\"Shapiro-Wilk Test - Test Statistic:\", shapiro_test_stat, \" p-value:\", shapiro_p_value)\n",
    "\n",
    "# Kolmogorov-Smirnov test\n",
    "ks_test_stat, ks_p_value = stats.kstest(res, 'norm')\n",
    "\n",
    "print(\"Kolmogorov-Smirnov Test - Test Statistic:\", ks_test_stat, \" p-value:\", ks_p_value)\n",
    "\n",
    "# Anderson-Darling test\n",
    "anderson_test_stat, anderson_critical_values, anderson_significance_levels = stats.anderson(res)\n",
    "print(\"Anderson-Darling Test - Test Statistic:\", anderson_test_stat)\n",
    "print(\"Anderson-Darling Test - Critical Values:\", anderson_critical_values)"
   ]
  },
  {
   "cell_type": "markdown",
   "id": "852843a0-a3a6-4f53-ba55-5f89f3ae1744",
   "metadata": {},
   "source": [
    "### Interpret Results"
   ]
  },
  {
   "cell_type": "markdown",
   "id": "50c74f62-dfa6-44c1-a7f7-b4a38e13f048",
   "metadata": {},
   "source": [
    "#### Histogram and Q-Q Plot Observations: \n",
    "The histogram graph displays a slight left skew, indicating a deviation from a perfectly symmetrical distribution. Similarly, the Q-Q plot deviates from a perfect straight line, suggesting departures from normality in the distribution of residuals.\n",
    "\n",
    "#### Statistical Test Results:\n",
    "\n",
    "##### Shapiro-Wilk Test:\n",
    "    The p-value (0.0677) from the Shapiro-Wilk test is marginally above the conventional significance level of 0.05, implying that we fail to reject the null hypothesis of normality. However, this result should be interpreted cautiously, considering its proximity to the significance threshold.\n",
    "##### Kolmogorov-Smirnov Test: \n",
    "    The very low p-value (9.11e-07) from the Kolmogorov-Smirnov test indicates a significant departure from normality.\n",
    "##### Anderson-Darling Test: \n",
    "    The test statistic (0.6919) falls below the critical value at the 5% significance level, suggesting no significant departure from normality according to the Anderson-Darling test.\n",
    "#### Interpretation of Results: \n",
    "The combination of visual inspection and statistical tests suggests that while the distribution of residuals exhibits some departure from normality, the evidence is somewhat mixed. The Shapiro-Wilk test, although inconclusive, hints at a potential normal distribution, whereas the Kolmogorov-Smirnov test strongly suggests otherwise. The Anderson-Darling test falls in between, indicating no significant departure from normality at the 5% significance level. However, given the slight skew observed in the histogram and deviations in the Q-Q plot, caution is warranted in interpreting the results."
   ]
  },
  {
   "cell_type": "markdown",
   "id": "a3c47183-83d4-4a83-9b21-b6b2aea7a51f",
   "metadata": {},
   "source": [
    "### Report Findings"
   ]
  },
  {
   "cell_type": "markdown",
   "id": "499c717a-577a-4888-9766-a05b1529ad98",
   "metadata": {},
   "source": [
    "##### Findings: \n",
    "    The analysis suggests that the assumption of normality in the residuals may not hold perfectly. This could imply that the regression model might not fully capture the underlying data distribution.\n",
    "##### Limitations: \n",
    "    It's important to acknowledge several limitations in this analysis. Firstly, the interpretation of normality tests can be influenced by sample size, and the dataset under consideration may have unique characteristics not fully captured by standard statistical tests. Additionally, while visual inspection is informative, it is subjective and may vary depending on individual interpretation. Lastly, the choice of significance level and the assumption of independence of observations are inherent assumptions in the conducted tests."
   ]
  }
 ],
 "metadata": {
  "kernelspec": {
   "display_name": "Python 3 (ipykernel)",
   "language": "python",
   "name": "python3"
  },
  "language_info": {
   "codemirror_mode": {
    "name": "ipython",
    "version": 3
   },
   "file_extension": ".py",
   "mimetype": "text/x-python",
   "name": "python",
   "nbconvert_exporter": "python",
   "pygments_lexer": "ipython3",
   "version": "3.12.0"
  }
 },
 "nbformat": 4,
 "nbformat_minor": 5
}

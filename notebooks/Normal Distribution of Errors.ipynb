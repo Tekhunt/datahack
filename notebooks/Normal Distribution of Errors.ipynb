{
 "cells": [
  {
   "cell_type": "markdown",
   "id": "f07fc511-e9b5-4200-b1d4-434a4aec116d",
   "metadata": {},
   "source": [
    "## \"Normal Distribution of Errors\" assumption means. \n",
    "\n",
    "This implies that the errors (residuals) resulting from a statistical model or measurement process should follow a normal (Gaussian) distribution. This assumption is crucial for various statistical methods, such as linear regression."
   ]
  },
  {
   "cell_type": "markdown",
   "id": "a6c59165-db9d-49dc-8b95-eb94b3f35ea3",
   "metadata": {},
   "source": [
    "### Steps to follow\n",
    "\n",
    "##### Feature Engineering\n",
    "\n",
    "create a group_location function that group the categories that represent less than a set threshold, [default is 0.01 ( i.e 1%)] of the dataset into an Other category\n",
    "\n",
    "##### Fit a Statistical Model:\n",
    "\n",
    "Fit the appropriate statistical model to the dataset. For example,  fit a linear regression model to the data.\n",
    "    \n",
    "##### Compute Residuals:\n",
    "\n",
    "Calculate the residuals by subtracting the observed values from the predicted values obtained from the model. Residuals represent the errors of the model, and their distribution is what we're interested in.\n",
    "\n",
    "##### Visual Inspection:\n",
    "\n",
    "Plot a histogram of the residuals to visually inspect their distribution. The histogram should provide an initial indication of whether the residuals approximately follow a normal distribution. \n",
    "\n",
    "##### Quantile-Quantile (Q-Q) Plot:\n",
    "\n",
    "Create a Q-Q plot (Quantile-Quantile plot) of the residuals against a theoretical normal distribution. In a Q-Q plot, if the residuals follow a normal distribution, the points should fall approximately along a straight line. Deviations from a straight line suggest departures from normality.\n",
    "\n",
    "##### Statistical Tests:\n",
    "\n",
    "Perform formal statistical tests to assess the normality of the residuals. Common tests include the Shapiro-Wilk test, Kolmogorov-Smirnov test, and Anderson-Darling test. These tests provide p-values, which indicate whether the null hypothesis of normality can be rejected or not. A high p-value suggests that the data are consistent with a normal distribution.\n",
    "\n",
    "##### Interpret Results:\n",
    "\n",
    "Based on the visual inspection and statistical tests, interpret the results. If the residuals exhibit a symmetric distribution around zero with no significant departures from normality according to both visual and statistical assessments, then the assumption of normal distribution of errors is considered met.\n",
    "\n",
    "##### Report Findings:\n",
    "\n",
    "Finally, report findings, including any limitations or assumptions made during the analysis."
   ]
  },
  {
   "cell_type": "code",
   "execution_count": 50,
   "id": "56a4002c-96f8-4c89-a5d1-3997c0fa65b7",
   "metadata": {},
   "outputs": [],
   "source": [
    "import pandas as pd\n",
    "import statsmodels.api as sm\n",
    "import matplotlib.pyplot as plt\n",
    "import scipy.stats as stats"
   ]
  },
  {
   "cell_type": "code",
   "execution_count": 51,
   "id": "b4716d2f-2503-4ae2-af70-e6f61b891443",
   "metadata": {},
   "outputs": [],
   "source": [
    "data = 'cleaned_df.zip'"
   ]
  },
  {
   "cell_type": "code",
   "execution_count": 52,
   "id": "88c1c1a4-6c23-42ea-8bd9-7cd03d5cc73b",
   "metadata": {},
   "outputs": [],
   "source": [
    "df = pd.read_csv(data, index_col=0)"
   ]
  },
  {
   "cell_type": "code",
   "execution_count": 53,
   "id": "70697d03-3069-41dd-8eb2-9654257d5bd6",
   "metadata": {},
   "outputs": [
    {
     "data": {
      "text/html": [
       "<div>\n",
       "<style scoped>\n",
       "    .dataframe tbody tr th:only-of-type {\n",
       "        vertical-align: middle;\n",
       "    }\n",
       "\n",
       "    .dataframe tbody tr th {\n",
       "        vertical-align: top;\n",
       "    }\n",
       "\n",
       "    .dataframe thead th {\n",
       "        text-align: right;\n",
       "    }\n",
       "</style>\n",
       "<table border=\"1\" class=\"dataframe\">\n",
       "  <thead>\n",
       "    <tr style=\"text-align: right;\">\n",
       "      <th></th>\n",
       "      <th>location</th>\n",
       "      <th>bath</th>\n",
       "      <th>balcony</th>\n",
       "      <th>price</th>\n",
       "      <th>House_size</th>\n",
       "      <th>new_total_sqft</th>\n",
       "    </tr>\n",
       "  </thead>\n",
       "  <tbody>\n",
       "    <tr>\n",
       "      <th>2</th>\n",
       "      <td>Uttarahalli</td>\n",
       "      <td>2.0</td>\n",
       "      <td>3.0</td>\n",
       "      <td>62.00</td>\n",
       "      <td>3.0</td>\n",
       "      <td>1440.0</td>\n",
       "    </tr>\n",
       "    <tr>\n",
       "      <th>3</th>\n",
       "      <td>Lingadheeranahalli</td>\n",
       "      <td>3.0</td>\n",
       "      <td>1.0</td>\n",
       "      <td>95.00</td>\n",
       "      <td>3.0</td>\n",
       "      <td>1521.0</td>\n",
       "    </tr>\n",
       "    <tr>\n",
       "      <th>4</th>\n",
       "      <td>Kothanur</td>\n",
       "      <td>2.0</td>\n",
       "      <td>1.0</td>\n",
       "      <td>51.00</td>\n",
       "      <td>2.0</td>\n",
       "      <td>1200.0</td>\n",
       "    </tr>\n",
       "    <tr>\n",
       "      <th>8</th>\n",
       "      <td>Marathahalli</td>\n",
       "      <td>3.0</td>\n",
       "      <td>1.0</td>\n",
       "      <td>63.25</td>\n",
       "      <td>3.0</td>\n",
       "      <td>1310.0</td>\n",
       "    </tr>\n",
       "    <tr>\n",
       "      <th>10</th>\n",
       "      <td>Whitefield</td>\n",
       "      <td>2.0</td>\n",
       "      <td>2.0</td>\n",
       "      <td>70.00</td>\n",
       "      <td>3.0</td>\n",
       "      <td>1800.0</td>\n",
       "    </tr>\n",
       "  </tbody>\n",
       "</table>\n",
       "</div>"
      ],
      "text/plain": [
       "              location  bath  balcony  price  House_size  new_total_sqft\n",
       "2          Uttarahalli   2.0      3.0  62.00         3.0          1440.0\n",
       "3   Lingadheeranahalli   3.0      1.0  95.00         3.0          1521.0\n",
       "4             Kothanur   2.0      1.0  51.00         2.0          1200.0\n",
       "8         Marathahalli   3.0      1.0  63.25         3.0          1310.0\n",
       "10          Whitefield   2.0      2.0  70.00         3.0          1800.0"
      ]
     },
     "execution_count": 53,
     "metadata": {},
     "output_type": "execute_result"
    }
   ],
   "source": [
    "df.head()"
   ]
  },
  {
   "cell_type": "code",
   "execution_count": 54,
   "id": "99310a98-9de3-4d14-83b5-878a459dc4bb",
   "metadata": {},
   "outputs": [
    {
     "data": {
      "text/plain": [
       "(6996, 6)"
      ]
     },
     "execution_count": 54,
     "metadata": {},
     "output_type": "execute_result"
    }
   ],
   "source": [
    "df.shape"
   ]
  },
  {
   "cell_type": "markdown",
   "id": "2e6f78f5-479b-4157-9833-eae74b70c0d5",
   "metadata": {},
   "source": [
    "### Feature Engineering\n",
    "\n",
    "Find the number of unique values in the categorical columns"
   ]
  },
  {
   "cell_type": "code",
   "execution_count": 55,
   "id": "3a225062-0f73-417c-80f6-a54ed8cd70a2",
   "metadata": {},
   "outputs": [
    {
     "data": {
      "text/plain": [
       "849"
      ]
     },
     "execution_count": 55,
     "metadata": {},
     "output_type": "execute_result"
    }
   ],
   "source": [
    "len(df['location'].unique())"
   ]
  },
  {
   "cell_type": "markdown",
   "id": "5b6823ca-0750-4bdb-8004-da400e6fb4a3",
   "metadata": {},
   "source": [
    "Seeing that the categorical column location has over 800 unique values, using One-Hot Encoding on this column will increase the dimensionality of the dataset. High dimensionality can lead to the curse of dimensionality, where models have a hard time learning patterns due to the vast feature space.\r\n",
    "\r\n",
    "To prevent this, I'll create a group_location function that group the categories that represent less than a set threshold, [default is 0.01 ( i.e 1%)] of the dataset into an Other category"
   ]
  },
  {
   "cell_type": "code",
   "execution_count": 56,
   "id": "c5c90ee4-a3aa-42a6-a0a8-0f88891e5961",
   "metadata": {},
   "outputs": [],
   "source": [
    "def group_location(threshold= 0.01):\n",
    "    '''\n",
    "    This funciton takes in a threshold and groups the unique locations whose total number of\n",
    "    rows/observations does not go meet the set threshold into the general category 'Other'.\n",
    "\n",
    "    The function returns the result of the value_counts() method of the location column.\n",
    "\n",
    "    Input:\n",
    "    threshold - float between 0 and 1 \n",
    "\n",
    "    Return:\n",
    "    It returns the unique categories and the total number of values each unique category has\n",
    "\n",
    "\n",
    "    '''\n",
    "    counts = df['location'].value_counts(normalize=True)\n",
    "\n",
    "\n",
    "    # Get the categories that represent less than set threshold\n",
    "    other_categories = counts[counts < threshold].index\n",
    "\n",
    "    # Replace these categorwies with 'Other' \n",
    "    df['location'] = df['location'].replace(other_categories, 'Other')\n",
    "\n",
    "    \n",
    "\n",
    "    return df['location'].value_counts()\n"
   ]
  },
  {
   "cell_type": "code",
   "execution_count": 57,
   "id": "1d282e39-03e4-41de-8da7-6205c6b07756",
   "metadata": {},
   "outputs": [
    {
     "data": {
      "text/plain": [
       "location\n",
       "Other                    4971\n",
       "Whitefield                314\n",
       "Sarjapur  Road            222\n",
       "Kanakpura Road            166\n",
       "Electronic City           155\n",
       "Uttarahalli               149\n",
       "Thanisandra               136\n",
       "Yelahanka                 133\n",
       "Raja Rajeshwari Nagar     130\n",
       "Marathahalli              116\n",
       "Bannerghatta Road         108\n",
       "Haralur Road              103\n",
       "7th Phase JP Nagar        102\n",
       "Hebbal                    101\n",
       "Hennur Road                90\n",
       "Name: count, dtype: int64"
      ]
     },
     "execution_count": 57,
     "metadata": {},
     "output_type": "execute_result"
    }
   ],
   "source": [
    "group_location()"
   ]
  },
  {
   "cell_type": "markdown",
   "id": "13d46554-fb1f-4df4-8fd1-30e9efd91e1d",
   "metadata": {},
   "source": [
    "#### Encode the categorical column"
   ]
  },
  {
   "cell_type": "code",
   "execution_count": 58,
   "id": "79f91b00-16a0-45bb-af0b-33ba5f4ef8b9",
   "metadata": {},
   "outputs": [
    {
     "data": {
      "text/html": [
       "<div>\n",
       "<style scoped>\n",
       "    .dataframe tbody tr th:only-of-type {\n",
       "        vertical-align: middle;\n",
       "    }\n",
       "\n",
       "    .dataframe tbody tr th {\n",
       "        vertical-align: top;\n",
       "    }\n",
       "\n",
       "    .dataframe thead th {\n",
       "        text-align: right;\n",
       "    }\n",
       "</style>\n",
       "<table border=\"1\" class=\"dataframe\">\n",
       "  <thead>\n",
       "    <tr style=\"text-align: right;\">\n",
       "      <th></th>\n",
       "      <th>bath</th>\n",
       "      <th>balcony</th>\n",
       "      <th>price</th>\n",
       "      <th>House_size</th>\n",
       "      <th>new_total_sqft</th>\n",
       "      <th>location_Bannerghatta Road</th>\n",
       "      <th>location_Electronic City</th>\n",
       "      <th>location_Haralur Road</th>\n",
       "      <th>location_Hebbal</th>\n",
       "      <th>location_Hennur Road</th>\n",
       "      <th>location_Kanakpura Road</th>\n",
       "      <th>location_Marathahalli</th>\n",
       "      <th>location_Other</th>\n",
       "      <th>location_Raja Rajeshwari Nagar</th>\n",
       "      <th>location_Sarjapur  Road</th>\n",
       "      <th>location_Thanisandra</th>\n",
       "      <th>location_Uttarahalli</th>\n",
       "      <th>location_Whitefield</th>\n",
       "      <th>location_Yelahanka</th>\n",
       "    </tr>\n",
       "  </thead>\n",
       "  <tbody>\n",
       "    <tr>\n",
       "      <th>2</th>\n",
       "      <td>2.0</td>\n",
       "      <td>3.0</td>\n",
       "      <td>62.00</td>\n",
       "      <td>3.0</td>\n",
       "      <td>1440.0</td>\n",
       "      <td>False</td>\n",
       "      <td>False</td>\n",
       "      <td>False</td>\n",
       "      <td>False</td>\n",
       "      <td>False</td>\n",
       "      <td>False</td>\n",
       "      <td>False</td>\n",
       "      <td>False</td>\n",
       "      <td>False</td>\n",
       "      <td>False</td>\n",
       "      <td>False</td>\n",
       "      <td>True</td>\n",
       "      <td>False</td>\n",
       "      <td>False</td>\n",
       "    </tr>\n",
       "    <tr>\n",
       "      <th>3</th>\n",
       "      <td>3.0</td>\n",
       "      <td>1.0</td>\n",
       "      <td>95.00</td>\n",
       "      <td>3.0</td>\n",
       "      <td>1521.0</td>\n",
       "      <td>False</td>\n",
       "      <td>False</td>\n",
       "      <td>False</td>\n",
       "      <td>False</td>\n",
       "      <td>False</td>\n",
       "      <td>False</td>\n",
       "      <td>False</td>\n",
       "      <td>True</td>\n",
       "      <td>False</td>\n",
       "      <td>False</td>\n",
       "      <td>False</td>\n",
       "      <td>False</td>\n",
       "      <td>False</td>\n",
       "      <td>False</td>\n",
       "    </tr>\n",
       "    <tr>\n",
       "      <th>4</th>\n",
       "      <td>2.0</td>\n",
       "      <td>1.0</td>\n",
       "      <td>51.00</td>\n",
       "      <td>2.0</td>\n",
       "      <td>1200.0</td>\n",
       "      <td>False</td>\n",
       "      <td>False</td>\n",
       "      <td>False</td>\n",
       "      <td>False</td>\n",
       "      <td>False</td>\n",
       "      <td>False</td>\n",
       "      <td>False</td>\n",
       "      <td>True</td>\n",
       "      <td>False</td>\n",
       "      <td>False</td>\n",
       "      <td>False</td>\n",
       "      <td>False</td>\n",
       "      <td>False</td>\n",
       "      <td>False</td>\n",
       "    </tr>\n",
       "    <tr>\n",
       "      <th>8</th>\n",
       "      <td>3.0</td>\n",
       "      <td>1.0</td>\n",
       "      <td>63.25</td>\n",
       "      <td>3.0</td>\n",
       "      <td>1310.0</td>\n",
       "      <td>False</td>\n",
       "      <td>False</td>\n",
       "      <td>False</td>\n",
       "      <td>False</td>\n",
       "      <td>False</td>\n",
       "      <td>False</td>\n",
       "      <td>True</td>\n",
       "      <td>False</td>\n",
       "      <td>False</td>\n",
       "      <td>False</td>\n",
       "      <td>False</td>\n",
       "      <td>False</td>\n",
       "      <td>False</td>\n",
       "      <td>False</td>\n",
       "    </tr>\n",
       "    <tr>\n",
       "      <th>10</th>\n",
       "      <td>2.0</td>\n",
       "      <td>2.0</td>\n",
       "      <td>70.00</td>\n",
       "      <td>3.0</td>\n",
       "      <td>1800.0</td>\n",
       "      <td>False</td>\n",
       "      <td>False</td>\n",
       "      <td>False</td>\n",
       "      <td>False</td>\n",
       "      <td>False</td>\n",
       "      <td>False</td>\n",
       "      <td>False</td>\n",
       "      <td>False</td>\n",
       "      <td>False</td>\n",
       "      <td>False</td>\n",
       "      <td>False</td>\n",
       "      <td>False</td>\n",
       "      <td>True</td>\n",
       "      <td>False</td>\n",
       "    </tr>\n",
       "  </tbody>\n",
       "</table>\n",
       "</div>"
      ],
      "text/plain": [
       "    bath  balcony  price  House_size  new_total_sqft  \\\n",
       "2    2.0      3.0  62.00         3.0          1440.0   \n",
       "3    3.0      1.0  95.00         3.0          1521.0   \n",
       "4    2.0      1.0  51.00         2.0          1200.0   \n",
       "8    3.0      1.0  63.25         3.0          1310.0   \n",
       "10   2.0      2.0  70.00         3.0          1800.0   \n",
       "\n",
       "    location_Bannerghatta Road  location_Electronic City  \\\n",
       "2                        False                     False   \n",
       "3                        False                     False   \n",
       "4                        False                     False   \n",
       "8                        False                     False   \n",
       "10                       False                     False   \n",
       "\n",
       "    location_Haralur Road  location_Hebbal  location_Hennur Road  \\\n",
       "2                   False            False                 False   \n",
       "3                   False            False                 False   \n",
       "4                   False            False                 False   \n",
       "8                   False            False                 False   \n",
       "10                  False            False                 False   \n",
       "\n",
       "    location_Kanakpura Road  location_Marathahalli  location_Other  \\\n",
       "2                     False                  False           False   \n",
       "3                     False                  False            True   \n",
       "4                     False                  False            True   \n",
       "8                     False                   True           False   \n",
       "10                    False                  False           False   \n",
       "\n",
       "    location_Raja Rajeshwari Nagar  location_Sarjapur  Road  \\\n",
       "2                            False                    False   \n",
       "3                            False                    False   \n",
       "4                            False                    False   \n",
       "8                            False                    False   \n",
       "10                           False                    False   \n",
       "\n",
       "    location_Thanisandra  location_Uttarahalli  location_Whitefield  \\\n",
       "2                  False                  True                False   \n",
       "3                  False                 False                False   \n",
       "4                  False                 False                False   \n",
       "8                  False                 False                False   \n",
       "10                 False                 False                 True   \n",
       "\n",
       "    location_Yelahanka  \n",
       "2                False  \n",
       "3                False  \n",
       "4                False  \n",
       "8                False  \n",
       "10               False  "
      ]
     },
     "execution_count": 58,
     "metadata": {},
     "output_type": "execute_result"
    }
   ],
   "source": [
    "df_encoded = pd.get_dummies(df, drop_first=True)\n",
    "df_encoded.head()"
   ]
  },
  {
   "cell_type": "code",
   "execution_count": 59,
   "id": "8740339e-9586-40b1-86cb-1614244768e8",
   "metadata": {},
   "outputs": [
    {
     "data": {
      "text/html": [
       "<div>\n",
       "<style scoped>\n",
       "    .dataframe tbody tr th:only-of-type {\n",
       "        vertical-align: middle;\n",
       "    }\n",
       "\n",
       "    .dataframe tbody tr th {\n",
       "        vertical-align: top;\n",
       "    }\n",
       "\n",
       "    .dataframe thead th {\n",
       "        text-align: right;\n",
       "    }\n",
       "</style>\n",
       "<table border=\"1\" class=\"dataframe\">\n",
       "  <thead>\n",
       "    <tr style=\"text-align: right;\">\n",
       "      <th></th>\n",
       "      <th>bath</th>\n",
       "      <th>balcony</th>\n",
       "      <th>price</th>\n",
       "      <th>House_size</th>\n",
       "      <th>new_total_sqft</th>\n",
       "      <th>location_Bannerghatta Road</th>\n",
       "      <th>location_Electronic City</th>\n",
       "      <th>location_Haralur Road</th>\n",
       "      <th>location_Hebbal</th>\n",
       "      <th>location_Hennur Road</th>\n",
       "      <th>location_Kanakpura Road</th>\n",
       "      <th>location_Marathahalli</th>\n",
       "      <th>location_Other</th>\n",
       "      <th>location_Raja Rajeshwari Nagar</th>\n",
       "      <th>location_Sarjapur  Road</th>\n",
       "      <th>location_Thanisandra</th>\n",
       "      <th>location_Uttarahalli</th>\n",
       "      <th>location_Whitefield</th>\n",
       "      <th>location_Yelahanka</th>\n",
       "    </tr>\n",
       "  </thead>\n",
       "  <tbody>\n",
       "    <tr>\n",
       "      <th>2</th>\n",
       "      <td>2.0</td>\n",
       "      <td>3.0</td>\n",
       "      <td>62.00</td>\n",
       "      <td>3.0</td>\n",
       "      <td>1440.0</td>\n",
       "      <td>0</td>\n",
       "      <td>0</td>\n",
       "      <td>0</td>\n",
       "      <td>0</td>\n",
       "      <td>0</td>\n",
       "      <td>0</td>\n",
       "      <td>0</td>\n",
       "      <td>0</td>\n",
       "      <td>0</td>\n",
       "      <td>0</td>\n",
       "      <td>0</td>\n",
       "      <td>1</td>\n",
       "      <td>0</td>\n",
       "      <td>0</td>\n",
       "    </tr>\n",
       "    <tr>\n",
       "      <th>3</th>\n",
       "      <td>3.0</td>\n",
       "      <td>1.0</td>\n",
       "      <td>95.00</td>\n",
       "      <td>3.0</td>\n",
       "      <td>1521.0</td>\n",
       "      <td>0</td>\n",
       "      <td>0</td>\n",
       "      <td>0</td>\n",
       "      <td>0</td>\n",
       "      <td>0</td>\n",
       "      <td>0</td>\n",
       "      <td>0</td>\n",
       "      <td>1</td>\n",
       "      <td>0</td>\n",
       "      <td>0</td>\n",
       "      <td>0</td>\n",
       "      <td>0</td>\n",
       "      <td>0</td>\n",
       "      <td>0</td>\n",
       "    </tr>\n",
       "    <tr>\n",
       "      <th>4</th>\n",
       "      <td>2.0</td>\n",
       "      <td>1.0</td>\n",
       "      <td>51.00</td>\n",
       "      <td>2.0</td>\n",
       "      <td>1200.0</td>\n",
       "      <td>0</td>\n",
       "      <td>0</td>\n",
       "      <td>0</td>\n",
       "      <td>0</td>\n",
       "      <td>0</td>\n",
       "      <td>0</td>\n",
       "      <td>0</td>\n",
       "      <td>1</td>\n",
       "      <td>0</td>\n",
       "      <td>0</td>\n",
       "      <td>0</td>\n",
       "      <td>0</td>\n",
       "      <td>0</td>\n",
       "      <td>0</td>\n",
       "    </tr>\n",
       "    <tr>\n",
       "      <th>8</th>\n",
       "      <td>3.0</td>\n",
       "      <td>1.0</td>\n",
       "      <td>63.25</td>\n",
       "      <td>3.0</td>\n",
       "      <td>1310.0</td>\n",
       "      <td>0</td>\n",
       "      <td>0</td>\n",
       "      <td>0</td>\n",
       "      <td>0</td>\n",
       "      <td>0</td>\n",
       "      <td>0</td>\n",
       "      <td>1</td>\n",
       "      <td>0</td>\n",
       "      <td>0</td>\n",
       "      <td>0</td>\n",
       "      <td>0</td>\n",
       "      <td>0</td>\n",
       "      <td>0</td>\n",
       "      <td>0</td>\n",
       "    </tr>\n",
       "    <tr>\n",
       "      <th>10</th>\n",
       "      <td>2.0</td>\n",
       "      <td>2.0</td>\n",
       "      <td>70.00</td>\n",
       "      <td>3.0</td>\n",
       "      <td>1800.0</td>\n",
       "      <td>0</td>\n",
       "      <td>0</td>\n",
       "      <td>0</td>\n",
       "      <td>0</td>\n",
       "      <td>0</td>\n",
       "      <td>0</td>\n",
       "      <td>0</td>\n",
       "      <td>0</td>\n",
       "      <td>0</td>\n",
       "      <td>0</td>\n",
       "      <td>0</td>\n",
       "      <td>0</td>\n",
       "      <td>1</td>\n",
       "      <td>0</td>\n",
       "    </tr>\n",
       "  </tbody>\n",
       "</table>\n",
       "</div>"
      ],
      "text/plain": [
       "    bath  balcony  price  House_size  new_total_sqft  \\\n",
       "2    2.0      3.0  62.00         3.0          1440.0   \n",
       "3    3.0      1.0  95.00         3.0          1521.0   \n",
       "4    2.0      1.0  51.00         2.0          1200.0   \n",
       "8    3.0      1.0  63.25         3.0          1310.0   \n",
       "10   2.0      2.0  70.00         3.0          1800.0   \n",
       "\n",
       "    location_Bannerghatta Road  location_Electronic City  \\\n",
       "2                            0                         0   \n",
       "3                            0                         0   \n",
       "4                            0                         0   \n",
       "8                            0                         0   \n",
       "10                           0                         0   \n",
       "\n",
       "    location_Haralur Road  location_Hebbal  location_Hennur Road  \\\n",
       "2                       0                0                     0   \n",
       "3                       0                0                     0   \n",
       "4                       0                0                     0   \n",
       "8                       0                0                     0   \n",
       "10                      0                0                     0   \n",
       "\n",
       "    location_Kanakpura Road  location_Marathahalli  location_Other  \\\n",
       "2                         0                      0               0   \n",
       "3                         0                      0               1   \n",
       "4                         0                      0               1   \n",
       "8                         0                      1               0   \n",
       "10                        0                      0               0   \n",
       "\n",
       "    location_Raja Rajeshwari Nagar  location_Sarjapur  Road  \\\n",
       "2                                0                        0   \n",
       "3                                0                        0   \n",
       "4                                0                        0   \n",
       "8                                0                        0   \n",
       "10                               0                        0   \n",
       "\n",
       "    location_Thanisandra  location_Uttarahalli  location_Whitefield  \\\n",
       "2                      0                     1                    0   \n",
       "3                      0                     0                    0   \n",
       "4                      0                     0                    0   \n",
       "8                      0                     0                    0   \n",
       "10                     0                     0                    1   \n",
       "\n",
       "    location_Yelahanka  \n",
       "2                    0  \n",
       "3                    0  \n",
       "4                    0  \n",
       "8                    0  \n",
       "10                   0  "
      ]
     },
     "execution_count": 59,
     "metadata": {},
     "output_type": "execute_result"
    }
   ],
   "source": [
    "encoded_cols = [cols for cols in df_encoded.columns if cols.startswith('location_')]\n",
    "\n",
    "for col in encoded_cols:\n",
    "    df_encoded[col] = df_encoded[col].astype(int)\n",
    "\n",
    "df_encoded.head()"
   ]
  },
  {
   "cell_type": "code",
   "execution_count": 60,
   "id": "d93c8cfb-c7bc-4796-ac67-e22eea189cc4",
   "metadata": {},
   "outputs": [
    {
     "name": "stdout",
     "output_type": "stream",
     "text": [
      "<class 'pandas.core.frame.DataFrame'>\n",
      "Index: 6996 entries, 2 to 13317\n",
      "Data columns (total 19 columns):\n",
      " #   Column                          Non-Null Count  Dtype  \n",
      "---  ------                          --------------  -----  \n",
      " 0   bath                            6996 non-null   float64\n",
      " 1   balcony                         6996 non-null   float64\n",
      " 2   price                           6996 non-null   float64\n",
      " 3   House_size                      6996 non-null   float64\n",
      " 4   new_total_sqft                  6996 non-null   float64\n",
      " 5   location_Bannerghatta Road      6996 non-null   int32  \n",
      " 6   location_Electronic City        6996 non-null   int32  \n",
      " 7   location_Haralur Road           6996 non-null   int32  \n",
      " 8   location_Hebbal                 6996 non-null   int32  \n",
      " 9   location_Hennur Road            6996 non-null   int32  \n",
      " 10  location_Kanakpura Road         6996 non-null   int32  \n",
      " 11  location_Marathahalli           6996 non-null   int32  \n",
      " 12  location_Other                  6996 non-null   int32  \n",
      " 13  location_Raja Rajeshwari Nagar  6996 non-null   int32  \n",
      " 14  location_Sarjapur  Road         6996 non-null   int32  \n",
      " 15  location_Thanisandra            6996 non-null   int32  \n",
      " 16  location_Uttarahalli            6996 non-null   int32  \n",
      " 17  location_Whitefield             6996 non-null   int32  \n",
      " 18  location_Yelahanka              6996 non-null   int32  \n",
      "dtypes: float64(5), int32(14)\n",
      "memory usage: 710.5 KB\n"
     ]
    }
   ],
   "source": [
    "df_encoded.info()"
   ]
  },
  {
   "cell_type": "markdown",
   "id": "ddbc8abf-d53b-4c08-9720-eb8904fd77c2",
   "metadata": {},
   "source": [
    "### Fit a Statistical Model"
   ]
  },
  {
   "cell_type": "code",
   "execution_count": 61,
   "id": "08dc49c7-74bd-477e-810f-afd7d450c1db",
   "metadata": {},
   "outputs": [],
   "source": [
    "X = df_encoded.drop('price', axis=1)\n",
    "y = df_encoded['price']\n",
    "\n",
    "\n",
    "# Add a constant term for the intercept\n",
    "X = sm.add_constant(X)  \n",
    "\n",
    "\n",
    "# Fit the OLS model that includes an intercept term\n",
    "model = sm.OLS(y, X).fit()"
   ]
  },
  {
   "cell_type": "markdown",
   "id": "42024830-587a-42ac-bcef-a3fc8eddc5f8",
   "metadata": {},
   "source": [
    "### Compute Residuals"
   ]
  },
  {
   "cell_type": "code",
   "execution_count": 62,
   "id": "40979788-f9a4-4038-8af6-990465df86b1",
   "metadata": {},
   "outputs": [
    {
     "data": {
      "text/plain": [
       "2         5.780206\n",
       "3        -1.353926\n",
       "4       -16.669165\n",
       "8       -17.900390\n",
       "10      -27.683134\n",
       "           ...    \n",
       "13310     0.178745\n",
       "13312   -20.274169\n",
       "13313    -2.026505\n",
       "13314    11.568123\n",
       "13317    14.287094\n",
       "Length: 6996, dtype: float64"
      ]
     },
     "execution_count": 62,
     "metadata": {},
     "output_type": "execute_result"
    }
   ],
   "source": [
    "residuals = model.resid\n",
    "residuals"
   ]
  },
  {
   "cell_type": "markdown",
   "id": "dfde5ac0-89fc-4359-9acb-569601e69919",
   "metadata": {},
   "source": [
    "### Visual Inspection"
   ]
  },
  {
   "cell_type": "code",
   "execution_count": 63,
   "id": "9723a0b0-cce4-4663-9805-beffd84fefe8",
   "metadata": {},
   "outputs": [
    {
     "data": {
      "image/png": "[encoded data removed]",
      "text/plain": [
       "<Figure size 640x480 with 1 Axes>"
      ]
     },
     "metadata": {},
     "output_type": "display_data"
    }
   ],
   "source": [
    "plt.hist(residuals, bins=30, edgecolor='black')\n",
    "plt.xlabel('Residuals')\n",
    "plt.ylabel('Frequency')\n",
    "plt.title('Histogram of Residuals')\n",
    "plt.grid(True)\n",
    "plt.show()"
   ]
  },
  {
   "cell_type": "code",
   "execution_count": null,
   "id": "cf48dd88-8d89-429e-b3c7-b6fe4da18caa",
   "metadata": {},
   "outputs": [],
   "source": []
  },
  {
   "cell_type": "markdown",
   "id": "a32a253a-b09f-4657-bf06-080f27d15a96",
   "metadata": {},
   "source": [
    "### Quantile-Quantile (Q-Q) Plot"
   ]
  },
  {
   "cell_type": "code",
   "execution_count": 64,
   "id": "5cb95942-b4fa-459b-9d3b-f306a6852c10",
   "metadata": {},
   "outputs": [
    {
     "data": {
      "image/png": "[encoded data removed]",
      "text/plain": [
       "<Figure size 640x480 with 1 Axes>"
      ]
     },
     "metadata": {},
     "output_type": "display_data"
    }
   ],
   "source": [
    "sm.qqplot(residuals, line ='45')\n",
    "plt.title('Q-Q Plot of Residuals')\n",
    "plt.xlabel('Theoretical Quantiles')\n",
    "plt.ylabel('Sample Quantiles')\n",
    "plt.grid(True)\n",
    "plt.show()"
   ]
  },
  {
   "cell_type": "markdown",
   "id": "2700cbb2-8740-46a0-a5a7-8410d0129c24",
   "metadata": {},
   "source": [
    "### Statistical Tests"
   ]
  },
  {
   "cell_type": "code",
   "execution_count": 65,
   "id": "822f5e59-a91e-4cf5-9b27-fb08c2eba2a3",
   "metadata": {},
   "outputs": [
    {
     "data": {
      "text/plain": [
       "1525      9.680674\n",
       "183       5.626483\n",
       "4116     -8.008357\n",
       "2478     -1.870497\n",
       "2123     -6.726142\n",
       "13096   -11.403561\n",
       "2692    -10.680722\n",
       "1584    -15.251444\n",
       "1210     -3.303245\n",
       "9194    -16.374684\n",
       "9262     -4.124680\n",
       "3700     16.187153\n",
       "6078      4.947990\n",
       "7058     -3.983436\n",
       "9354    -19.173977\n",
       "8041    -21.215809\n",
       "9433    -30.253110\n",
       "5944    -14.268082\n",
       "6522    -33.273509\n",
       "3125     -8.000374\n",
       "4978    -13.128698\n",
       "9107      6.474074\n",
       "12093   -23.512075\n",
       "8454      3.056636\n",
       "9664      2.498905\n",
       "5360     -5.167379\n",
       "8514     -6.855742\n",
       "5087     -9.940512\n",
       "10427   -11.719006\n",
       "6475     -4.391116\n",
       "dtype: float64"
      ]
     },
     "execution_count": 65,
     "metadata": {},
     "output_type": "execute_result"
    }
   ],
   "source": [
    "res = residuals.sample(30)\n",
    "res"
   ]
  },
  {
   "cell_type": "code",
   "execution_count": 66,
   "id": "d04b722d-db18-4789-899c-5c0c25e5aae7",
   "metadata": {},
   "outputs": [
    {
     "name": "stdout",
     "output_type": "stream",
     "text": [
      "Shapiro-Wilk Test - Test Statistic: 0.9879326224327087  p-value: 0.9762274026870728\n",
      "Kolmogorov-Smirnov Test - Test Statistic: 0.7359592354443764  p-value: 3.632990225546357e-17\n",
      "Anderson-Darling Test - Test Statistic: 0.17393798202483524\n",
      "Anderson-Darling Test - Critical Values: [0.521 0.593 0.712 0.83  0.988]\n"
     ]
    }
   ],
   "source": [
    "\n",
    "# Shapiro-Wilk test\n",
    "shapiro_test_stat, shapiro_p_value = stats.shapiro(res)\n",
    "print(\"Shapiro-Wilk Test - Test Statistic:\", shapiro_test_stat, \" p-value:\", shapiro_p_value)\n",
    "\n",
    "# Kolmogorov-Smirnov test\n",
    "ks_test_stat, ks_p_value = stats.kstest(res, 'norm')\n",
    "\n",
    "print(\"Kolmogorov-Smirnov Test - Test Statistic:\", ks_test_stat, \" p-value:\", ks_p_value)\n",
    "\n",
    "# Anderson-Darling test\n",
    "anderson_test_stat, anderson_critical_values, anderson_significance_levels = stats.anderson(res)\n",
    "print(\"Anderson-Darling Test - Test Statistic:\", anderson_test_stat)\n",
    "print(\"Anderson-Darling Test - Critical Values:\", anderson_critical_values)"
   ]
  },
  {
   "cell_type": "markdown",
   "id": "852843a0-a3a6-4f53-ba55-5f89f3ae1744",
   "metadata": {},
   "source": [
    "### Interpret Results"
   ]
  },
  {
   "cell_type": "markdown",
   "id": "50c74f62-dfa6-44c1-a7f7-b4a38e13f048",
   "metadata": {},
   "source": [
    "#### Histogram and Q-Q Plot Observations: \n",
    "The histogram graph displays a slight left skew, indicating a deviation from a perfectly symmetrical distribution. Similarly, the Q-Q plot deviates from a perfect straight line, suggesting departures from normality in the distribution of residuals.\n",
    "\n",
    "#### Statistical Test Results:\n",
    "\n",
    "##### Shapiro-Wilk Test:\n",
    "    The p-value (0.0677) from the Shapiro-Wilk test is marginally above the conventional significance level of 0.05, implying that we fail to reject the null hypothesis of normality. However, this result should be interpreted cautiously, considering its proximity to the significance threshold.\n",
    "##### Kolmogorov-Smirnov Test: \n",
    "    The very low p-value (9.11e-07) from the Kolmogorov-Smirnov test indicates a significant departure from normality.\n",
    "##### Anderson-Darling Test: \n",
    "    The test statistic (0.6919) falls below the critical value at the 5% significance level, suggesting no significant departure from normality according to the Anderson-Darling test.\n",
    "#### Interpretation of Results: \n",
    "The combination of visual inspection and statistical tests suggests that while the distribution of residuals exhibits some departure from normality, the evidence is somewhat mixed. The Shapiro-Wilk test, although inconclusive, hints at a potential normal distribution, whereas the Kolmogorov-Smirnov test strongly suggests otherwise. The Anderson-Darling test falls in between, indicating no significant departure from normality at the 5% significance level. However, given the slight skew observed in the histogram and deviations in the Q-Q plot, caution is warranted in interpreting the results."
   ]
  },
  {
   "cell_type": "markdown",
   "id": "a3c47183-83d4-4a83-9b21-b6b2aea7a51f",
   "metadata": {},
   "source": [
    "### Report Findings"
   ]
  },
  {
   "cell_type": "markdown",
   "id": "499c717a-577a-4888-9766-a05b1529ad98",
   "metadata": {},
   "source": [
    "##### Findings: \n",
    "    The analysis suggests that the assumption of normality in the residuals may not hold perfectly. This could imply that the regression model might not fully capture the underlying data distribution.\n",
    "##### Limitations: \n",
    "    It's important to acknowledge several limitations in this analysis. Firstly, the interpretation of normality tests can be influenced by sample size, and the dataset under consideration may have unique characteristics not fully captured by standard statistical tests. Additionally, while visual inspection is informative, it is subjective and may vary depending on individual interpretation. Lastly, the choice of significance level and the assumption of independence of observations are inherent assumptions in the conducted tests."
   ]
  }
 ],
 "metadata": {
  "kernelspec": {
   "display_name": "Python 3 (ipykernel)",
   "language": "python",
   "name": "python3"
  },
  "language_info": {
   "codemirror_mode": {
    "name": "ipython",
    "version": 3
   },
   "file_extension": ".py",
   "mimetype": "text/x-python",
   "name": "python",
   "nbconvert_exporter": "python",
   "pygments_lexer": "ipython3",
   "version": "3.9.18"
  }
 },
 "nbformat": 4,
 "nbformat_minor": 5
}

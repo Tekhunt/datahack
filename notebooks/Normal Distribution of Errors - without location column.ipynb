{
 "cells": [
  {
   "cell_type": "markdown",
   "id": "f07fc511-e9b5-4200-b1d4-434a4aec116d",
   "metadata": {},
   "source": [
    "## \"Normal Distribution of Errors\" assumption means. \n",
    "\n",
    "This implies that the errors (residuals) resulting from a statistical model or measurement process should follow a normal (Gaussian) distribution. This assumption is crucial for various statistical methods, such as linear regression."
   ]
  },
  {
   "cell_type": "markdown",
   "id": "a6c59165-db9d-49dc-8b95-eb94b3f35ea3",
   "metadata": {},
   "source": [
    "### Steps to follow\n",
    "\n",
    "##### Fit a Statistical Model:\n",
    "\n",
    "Fit the appropriate statistical model to the dataset. For example,  fit a linear regression model to the data.\n",
    "    \n",
    "##### Compute Residuals:\n",
    "\n",
    "Calculate the residuals by subtracting the observed values from the predicted values obtained from the model. Residuals represent the errors of the model, and their distribution is what we're interested in.\n",
    "\n",
    "##### Visual Inspection:\n",
    "\n",
    "Plot a histogram of the residuals to visually inspect their distribution. The histogram should provide an initial indication of whether the residuals approximately follow a normal distribution. \n",
    "\n",
    "##### Quantile-Quantile (Q-Q) Plot:\n",
    "\n",
    "Create a Q-Q plot (Quantile-Quantile plot) of the residuals against a theoretical normal distribution. In a Q-Q plot, if the residuals follow a normal distribution, the points should fall approximately along a straight line. Deviations from a straight line suggest departures from normality.\n",
    "\n",
    "##### Statistical Tests:\n",
    "\n",
    "Perform formal statistical tests to assess the normality of the residuals. Common tests include the Shapiro-Wilk test, Kolmogorov-Smirnov test, and Anderson-Darling test. These tests provide p-values, which indicate whether the null hypothesis of normality can be rejected or not. A high p-value suggests that the data are consistent with a normal distribution.\n",
    "\n",
    "##### Interpret Results:\n",
    "\n",
    "Based on the visual inspection and statistical tests, interpret the results. If the residuals exhibit a symmetric distribution around zero with no significant departures from normality according to both visual and statistical assessments, then the assumption of normal distribution of errors is considered met.\n",
    "\n",
    "##### Report Findings:\n",
    "\n",
    "Finally, report findings, including any limitations or assumptions made during the analysis."
   ]
  },
  {
   "cell_type": "code",
   "execution_count": 18,
   "id": "56a4002c-96f8-4c89-a5d1-3997c0fa65b7",
   "metadata": {},
   "outputs": [],
   "source": [
    "import pandas as pd\n",
    "import statsmodels.api as sm\n",
    "import matplotlib.pyplot as plt\n",
    "import scipy.stats as stats"
   ]
  },
  {
   "cell_type": "code",
   "execution_count": 19,
   "id": "b4716d2f-2503-4ae2-af70-e6f61b891443",
   "metadata": {},
   "outputs": [],
   "source": [
    "data = 'cleaned_df.zip'"
   ]
  },
  {
   "cell_type": "code",
   "execution_count": 20,
   "id": "88c1c1a4-6c23-42ea-8bd9-7cd03d5cc73b",
   "metadata": {},
   "outputs": [],
   "source": [
    "df = pd.read_csv(data, index_col=0)"
   ]
  },
  {
   "cell_type": "code",
   "execution_count": 21,
   "id": "70697d03-3069-41dd-8eb2-9654257d5bd6",
   "metadata": {},
   "outputs": [
    {
     "data": {
      "text/html": [
       "<div>\n",
       "<style scoped>\n",
       "    .dataframe tbody tr th:only-of-type {\n",
       "        vertical-align: middle;\n",
       "    }\n",
       "\n",
       "    .dataframe tbody tr th {\n",
       "        vertical-align: top;\n",
       "    }\n",
       "\n",
       "    .dataframe thead th {\n",
       "        text-align: right;\n",
       "    }\n",
       "</style>\n",
       "<table border=\"1\" class=\"dataframe\">\n",
       "  <thead>\n",
       "    <tr style=\"text-align: right;\">\n",
       "      <th></th>\n",
       "      <th>location</th>\n",
       "      <th>bath</th>\n",
       "      <th>balcony</th>\n",
       "      <th>price</th>\n",
       "      <th>House_size</th>\n",
       "      <th>new_total_sqft</th>\n",
       "    </tr>\n",
       "  </thead>\n",
       "  <tbody>\n",
       "    <tr>\n",
       "      <th>2</th>\n",
       "      <td>Uttarahalli</td>\n",
       "      <td>2.0</td>\n",
       "      <td>3.0</td>\n",
       "      <td>62.00</td>\n",
       "      <td>3.0</td>\n",
       "      <td>1440.0</td>\n",
       "    </tr>\n",
       "    <tr>\n",
       "      <th>3</th>\n",
       "      <td>Lingadheeranahalli</td>\n",
       "      <td>3.0</td>\n",
       "      <td>1.0</td>\n",
       "      <td>95.00</td>\n",
       "      <td>3.0</td>\n",
       "      <td>1521.0</td>\n",
       "    </tr>\n",
       "    <tr>\n",
       "      <th>4</th>\n",
       "      <td>Kothanur</td>\n",
       "      <td>2.0</td>\n",
       "      <td>1.0</td>\n",
       "      <td>51.00</td>\n",
       "      <td>2.0</td>\n",
       "      <td>1200.0</td>\n",
       "    </tr>\n",
       "    <tr>\n",
       "      <th>8</th>\n",
       "      <td>Marathahalli</td>\n",
       "      <td>3.0</td>\n",
       "      <td>1.0</td>\n",
       "      <td>63.25</td>\n",
       "      <td>3.0</td>\n",
       "      <td>1310.0</td>\n",
       "    </tr>\n",
       "    <tr>\n",
       "      <th>10</th>\n",
       "      <td>Whitefield</td>\n",
       "      <td>2.0</td>\n",
       "      <td>2.0</td>\n",
       "      <td>70.00</td>\n",
       "      <td>3.0</td>\n",
       "      <td>1800.0</td>\n",
       "    </tr>\n",
       "  </tbody>\n",
       "</table>\n",
       "</div>"
      ],
      "text/plain": [
       "              location  bath  balcony  price  House_size  new_total_sqft\n",
       "2          Uttarahalli   2.0      3.0  62.00         3.0          1440.0\n",
       "3   Lingadheeranahalli   3.0      1.0  95.00         3.0          1521.0\n",
       "4             Kothanur   2.0      1.0  51.00         2.0          1200.0\n",
       "8         Marathahalli   3.0      1.0  63.25         3.0          1310.0\n",
       "10          Whitefield   2.0      2.0  70.00         3.0          1800.0"
      ]
     },
     "execution_count": 21,
     "metadata": {},
     "output_type": "execute_result"
    }
   ],
   "source": [
    "df.head()"
   ]
  },
  {
   "cell_type": "code",
   "execution_count": 22,
   "id": "99310a98-9de3-4d14-83b5-878a459dc4bb",
   "metadata": {},
   "outputs": [
    {
     "data": {
      "text/plain": [
       "(6996, 6)"
      ]
     },
     "execution_count": 22,
     "metadata": {},
     "output_type": "execute_result"
    }
   ],
   "source": [
    "df.shape"
   ]
  },
  {
   "cell_type": "code",
   "execution_count": 23,
   "id": "a0496a4a-d9d7-47a9-aa58-e2fdabe64b84",
   "metadata": {},
   "outputs": [
    {
     "data": {
      "text/html": [
       "<div>\n",
       "<style scoped>\n",
       "    .dataframe tbody tr th:only-of-type {\n",
       "        vertical-align: middle;\n",
       "    }\n",
       "\n",
       "    .dataframe tbody tr th {\n",
       "        vertical-align: top;\n",
       "    }\n",
       "\n",
       "    .dataframe thead th {\n",
       "        text-align: right;\n",
       "    }\n",
       "</style>\n",
       "<table border=\"1\" class=\"dataframe\">\n",
       "  <thead>\n",
       "    <tr style=\"text-align: right;\">\n",
       "      <th></th>\n",
       "      <th>bath</th>\n",
       "      <th>balcony</th>\n",
       "      <th>price</th>\n",
       "      <th>House_size</th>\n",
       "      <th>new_total_sqft</th>\n",
       "    </tr>\n",
       "  </thead>\n",
       "  <tbody>\n",
       "    <tr>\n",
       "      <th>2</th>\n",
       "      <td>2.0</td>\n",
       "      <td>3.0</td>\n",
       "      <td>62.00</td>\n",
       "      <td>3.0</td>\n",
       "      <td>1440.0</td>\n",
       "    </tr>\n",
       "    <tr>\n",
       "      <th>3</th>\n",
       "      <td>3.0</td>\n",
       "      <td>1.0</td>\n",
       "      <td>95.00</td>\n",
       "      <td>3.0</td>\n",
       "      <td>1521.0</td>\n",
       "    </tr>\n",
       "    <tr>\n",
       "      <th>4</th>\n",
       "      <td>2.0</td>\n",
       "      <td>1.0</td>\n",
       "      <td>51.00</td>\n",
       "      <td>2.0</td>\n",
       "      <td>1200.0</td>\n",
       "    </tr>\n",
       "    <tr>\n",
       "      <th>8</th>\n",
       "      <td>3.0</td>\n",
       "      <td>1.0</td>\n",
       "      <td>63.25</td>\n",
       "      <td>3.0</td>\n",
       "      <td>1310.0</td>\n",
       "    </tr>\n",
       "    <tr>\n",
       "      <th>10</th>\n",
       "      <td>2.0</td>\n",
       "      <td>2.0</td>\n",
       "      <td>70.00</td>\n",
       "      <td>3.0</td>\n",
       "      <td>1800.0</td>\n",
       "    </tr>\n",
       "  </tbody>\n",
       "</table>\n",
       "</div>"
      ],
      "text/plain": [
       "    bath  balcony  price  House_size  new_total_sqft\n",
       "2    2.0      3.0  62.00         3.0          1440.0\n",
       "3    3.0      1.0  95.00         3.0          1521.0\n",
       "4    2.0      1.0  51.00         2.0          1200.0\n",
       "8    3.0      1.0  63.25         3.0          1310.0\n",
       "10   2.0      2.0  70.00         3.0          1800.0"
      ]
     },
     "execution_count": 23,
     "metadata": {},
     "output_type": "execute_result"
    }
   ],
   "source": [
    "df = df.drop('location', axis=1)\n",
    "df.head()"
   ]
  },
  {
   "cell_type": "markdown",
   "id": "ddbc8abf-d53b-4c08-9720-eb8904fd77c2",
   "metadata": {},
   "source": [
    "### Fit a Statistical Model"
   ]
  },
  {
   "cell_type": "code",
   "execution_count": 25,
   "id": "08dc49c7-74bd-477e-810f-afd7d450c1db",
   "metadata": {},
   "outputs": [],
   "source": [
    "X = df.drop('price', axis=1)\n",
    "y = df['price']\n",
    "\n",
    "\n",
    "# Add a constant term for the intercept\n",
    "X = sm.add_constant(X)  \n",
    "\n",
    "\n",
    "# Fit the OLS model that includes an intercept term\n",
    "model = sm.OLS(y, X).fit()"
   ]
  },
  {
   "cell_type": "markdown",
   "id": "42024830-587a-42ac-bcef-a3fc8eddc5f8",
   "metadata": {},
   "source": [
    "### Compute Residuals"
   ]
  },
  {
   "cell_type": "code",
   "execution_count": 26,
   "id": "40979788-f9a4-4038-8af6-990465df86b1",
   "metadata": {},
   "outputs": [
    {
     "data": {
      "text/plain": [
       "2        -8.899539\n",
       "3        -0.362577\n",
       "4       -15.331876\n",
       "8       -17.472662\n",
       "10      -30.705863\n",
       "           ...    \n",
       "13310     1.613916\n",
       "13312   -18.805382\n",
       "13313   -16.964650\n",
       "13314    12.833568\n",
       "13317    -2.238251\n",
       "Length: 6996, dtype: float64"
      ]
     },
     "execution_count": 26,
     "metadata": {},
     "output_type": "execute_result"
    }
   ],
   "source": [
    "residuals = model.resid\n",
    "residuals"
   ]
  },
  {
   "cell_type": "markdown",
   "id": "dfde5ac0-89fc-4359-9acb-569601e69919",
   "metadata": {},
   "source": [
    "### Visual Inspection"
   ]
  },
  {
   "cell_type": "code",
   "execution_count": 27,
   "id": "9723a0b0-cce4-4663-9805-beffd84fefe8",
   "metadata": {},
   "outputs": [
    {
     "data": {
      "image/png": "[encoded data removed]",
      "text/plain": [
       "<Figure size 640x480 with 1 Axes>"
      ]
     },
     "metadata": {},
     "output_type": "display_data"
    }
   ],
   "source": [
    "plt.hist(residuals, bins=30, edgecolor='black')\n",
    "plt.xlabel('Residuals')\n",
    "plt.ylabel('Frequency')\n",
    "plt.title('Histogram of Residuals')\n",
    "plt.grid(True)\n",
    "plt.show()"
   ]
  },
  {
   "cell_type": "code",
   "execution_count": null,
   "id": "cf48dd88-8d89-429e-b3c7-b6fe4da18caa",
   "metadata": {},
   "outputs": [],
   "source": []
  },
  {
   "cell_type": "markdown",
   "id": "a32a253a-b09f-4657-bf06-080f27d15a96",
   "metadata": {},
   "source": [
    "### Quantile-Quantile (Q-Q) Plot"
   ]
  },
  {
   "cell_type": "code",
   "execution_count": 28,
   "id": "5cb95942-b4fa-459b-9d3b-f306a6852c10",
   "metadata": {},
   "outputs": [
    {
     "data": {
      "image/png": "[encoded data removed]",
      "text/plain": [
       "<Figure size 640x480 with 1 Axes>"
      ]
     },
     "metadata": {},
     "output_type": "display_data"
    }
   ],
   "source": [
    "sm.qqplot(residuals, line ='45')\n",
    "plt.title('Q-Q Plot of Residuals')\n",
    "plt.xlabel('Theoretical Quantiles')\n",
    "plt.ylabel('Sample Quantiles')\n",
    "plt.grid(True)\n",
    "plt.show()"
   ]
  },
  {
   "cell_type": "markdown",
   "id": "2700cbb2-8740-46a0-a5a7-8410d0129c24",
   "metadata": {},
   "source": [
    "### Statistical Tests"
   ]
  },
  {
   "cell_type": "code",
   "execution_count": 29,
   "id": "822f5e59-a91e-4cf5-9b27-fb08c2eba2a3",
   "metadata": {},
   "outputs": [
    {
     "data": {
      "text/plain": [
       "13033   -32.005524\n",
       "8778     10.974289\n",
       "4184     -7.331876\n",
       "9373    -12.565258\n",
       "6806    -10.817445\n",
       "2541      3.700612\n",
       "1077      2.310416\n",
       "1971    -34.158758\n",
       "595     -14.862246\n",
       "848      95.902894\n",
       "5899     30.892784\n",
       "9005    -12.424354\n",
       "4597     -0.434280\n",
       "9350    -17.025711\n",
       "1037    -16.956328\n",
       "5572    -17.260115\n",
       "6844    -15.094853\n",
       "10350    -1.536228\n",
       "3019     -3.287666\n",
       "1282    -18.961548\n",
       "2365    -15.865703\n",
       "9848    -14.863725\n",
       "9360     12.557988\n",
       "6269    -12.543901\n",
       "5379     -2.164835\n",
       "5234     28.370795\n",
       "5259      7.158197\n",
       "9882     -8.014122\n",
       "11101   -36.782220\n",
       "4645     19.822412\n",
       "dtype: float64"
      ]
     },
     "execution_count": 29,
     "metadata": {},
     "output_type": "execute_result"
    }
   ],
   "source": [
    "res = residuals.sample(30)\n",
    "res"
   ]
  },
  {
   "cell_type": "code",
   "execution_count": 30,
   "id": "d04b722d-db18-4789-899c-5c0c25e5aae7",
   "metadata": {},
   "outputs": [
    {
     "name": "stdout",
     "output_type": "stream",
     "text": [
      "Shapiro-Wilk Test - Test Statistic: 0.8007676005363464  p-value: 6.770788604626432e-05\n",
      "Kolmogorov-Smirnov Test - Test Statistic: 0.6181331658048677  p-value: 1.4264375497405086e-11\n",
      "Anderson-Darling Test - Test Statistic: 1.5214221381769413\n",
      "Anderson-Darling Test - Critical Values: [0.521 0.593 0.712 0.83  0.988]\n"
     ]
    }
   ],
   "source": [
    "\n",
    "# Shapiro-Wilk test\n",
    "shapiro_test_stat, shapiro_p_value = stats.shapiro(res)\n",
    "print(\"Shapiro-Wilk Test - Test Statistic:\", shapiro_test_stat, \" p-value:\", shapiro_p_value)\n",
    "\n",
    "# Kolmogorov-Smirnov test\n",
    "ks_test_stat, ks_p_value = stats.kstest(res, 'norm')\n",
    "\n",
    "print(\"Kolmogorov-Smirnov Test - Test Statistic:\", ks_test_stat, \" p-value:\", ks_p_value)\n",
    "\n",
    "# Anderson-Darling test\n",
    "anderson_test_stat, anderson_critical_values, anderson_significance_levels = stats.anderson(res)\n",
    "print(\"Anderson-Darling Test - Test Statistic:\", anderson_test_stat)\n",
    "print(\"Anderson-Darling Test - Critical Values:\", anderson_critical_values)"
   ]
  },
  {
   "cell_type": "markdown",
   "id": "852843a0-a3a6-4f53-ba55-5f89f3ae1744",
   "metadata": {},
   "source": [
    "### Interpret Results"
   ]
  },
  {
   "cell_type": "markdown",
   "id": "50c74f62-dfa6-44c1-a7f7-b4a38e13f048",
   "metadata": {},
   "source": [
    "##### Histogram and Q-Q Plot Observations:\r\n",
    "\r\n",
    "Given the highly significant p-values obtained from both the Shapiro-Wilk (p < 0.0001) and Kolmogorov-Smirnov (p < 0.0001) tests, along with the Anderson-Darling test statistic (1.5214), it's likely that the histogram will show a more pronounced skewness, potentially indicating a departure from normality. Similarly, the Q-Q plot may exhibit more significant deviations from the straight line.\r\n",
    "Statistical Test Results##### :\r\n",
    "\r\n",
    "Shapiro-Wilk T\n",
    "est: The extremely low p-value (6.77e-05) from the Shapiro-Wilk test strongly suggests a significant departure from normal##### ity.\r\n",
    "Kolmogorov-Smirnov \n",
    "Test: The very low p-value (1.43e-11) from the Kolmogorov-Smirnov test also indicates a significant departure from norma##### lity.\r\n",
    "Anderson-Darling\n",
    " Test: The test statistic (1.5214) exceeds the critical values at the 5% significance level, further supporting the conclusion of a departure from norm\n",
    "##### ality.\r\n",
    "Interpretation of Results:\r\n",
    "\r\n",
    "The results provide strong evidence against the null hypothesis of normality. Both the Shapiro-Wilk and Kolmogorov-Smirnov tests reject the assumption of normality with very low p-values. The Anderson-Darling test statistic also supports this conclusion, indicating significant departures from normality.\r\n",
    "The observed deviations in the histogram and Q-Q plot are likely to be more pronounced, reflecting the non-normal nature of the residuals."
   ]
  },
  {
   "cell_type": "markdown",
   "id": "a3c47183-83d4-4a83-9b21-b6b2aea7a51f",
   "metadata": {},
   "source": [
    "### Report Findings"
   ]
  },
  {
   "cell_type": "markdown",
   "id": "499c717a-577a-4888-9766-a05b1529ad98",
   "metadata": {},
   "source": [
    "##### Findings: \n",
    "The analysis suggests a clear departure from normality in the distribution of residuals. This indicates that the regression model may not adequately capture the underlying data distribution.\r",
    "##### \n",
    "Limitations:\n",
    " Similar to the previous analysis, it's important to acknowledge potential limitations such as sample size, the assumption of independence of observations, and the subjective nature of visual inspection."
   ]
  },
  {
   "cell_type": "code",
   "execution_count": null,
   "id": "05eee6c1-5386-48e0-8a1c-6b51c43e078f",
   "metadata": {},
   "outputs": [],
   "source": []
  }
 ],
 "metadata": {
  "kernelspec": {
   "display_name": "Python 3 (ipykernel)",
   "language": "python",
   "name": "python3"
  },
  "language_info": {
   "codemirror_mode": {
    "name": "ipython",
    "version": 3
   },
   "file_extension": ".py",
   "mimetype": "text/x-python",
   "name": "python",
   "nbconvert_exporter": "python",
   "pygments_lexer": "ipython3",
   "version": "3.9.18"
  }
 },
 "nbformat": 4,
 "nbformat_minor": 5
}

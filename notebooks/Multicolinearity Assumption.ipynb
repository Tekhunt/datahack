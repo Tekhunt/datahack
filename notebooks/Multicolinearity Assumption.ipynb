{
 "cells": [
  {
   "cell_type": "markdown",
   "id": "6bb0eca2",
   "metadata": {},
   "source": [
    "# Test For Multicolinearity\n"
   ]
  },
  {
   "cell_type": "markdown",
   "id": "0d4ee124",
   "metadata": {},
   "source": [
    "\n",
    "Multicollinearity is a statistical phenomenon that occurs when two or more independent variables(feature metrics) in a regression model are highly correlated with each other. In other words, multicollinearity indicates a strong linear relationship among the predictor variables.\n",
    "\n"
   ]
  },
  {
   "cell_type": "markdown",
   "id": "0512bce8",
   "metadata": {},
   "source": [
    "### Why check for Multicollinearity?\n",
    "The presence of multicollinearity poses several problems to a regression model:  \n",
    "\n",
    "(1) It renders the coefficients unreliable  \n",
    "\n",
    "(2) Confidence in the model decreases  \n",
    "\n",
    "(3) Model interpretation becomes challenging  \n",
    "\n",
    "High multicollinearity makes it challenging to interpret the results of a regression analysis accurately. It becomes difficult to determine the individual effects of each predictor variable on the outcome, as the correlated predictors may share explanatory power. This can lead to incorrect conclusions about which predictors are truly significant in explaining the variability in the response variable. Therefore addressing multicollinearity helps improve the stability and generalization of the regression model.\n"
   ]
  },
  {
   "cell_type": "code",
   "execution_count": 1,
   "id": "44b84e0f",
   "metadata": {},
   "outputs": [],
   "source": [
    "import pandas as pd\n",
    "import numpy as np\n",
    "import seaborn as sns\n",
    "import statsmodels.api as sm\n",
    "from statsmodels.stats.outliers_influence import variance_inflation_factor\n",
    "from statsmodels.tools import add_constant \n"
   ]
  },
  {
   "cell_type": "code",
   "execution_count": 3,
   "id": "f6fffa0a",
   "metadata": {},
   "outputs": [],
   "source": [
    "df = pd.read_csv('../data/cleaned_df.zip', compression='zip', index_col=0)"
   ]
  },
  {
   "cell_type": "code",
   "execution_count": 4,
   "id": "30447f0d",
   "metadata": {
    "scrolled": true
   },
   "outputs": [
    {
     "data": {
      "text/html": [
       "<div>\n",
       "<style scoped>\n",
       "    .dataframe tbody tr th:only-of-type {\n",
       "        vertical-align: middle;\n",
       "    }\n",
       "\n",
       "    .dataframe tbody tr th {\n",
       "        vertical-align: top;\n",
       "    }\n",
       "\n",
       "    .dataframe thead th {\n",
       "        text-align: right;\n",
       "    }\n",
       "</style>\n",
       "<table border=\"1\" class=\"dataframe\">\n",
       "  <thead>\n",
       "    <tr style=\"text-align: right;\">\n",
       "      <th></th>\n",
       "      <th>location</th>\n",
       "      <th>bath</th>\n",
       "      <th>balcony</th>\n",
       "      <th>price</th>\n",
       "      <th>House_size</th>\n",
       "      <th>new_total_sqft</th>\n",
       "    </tr>\n",
       "  </thead>\n",
       "  <tbody>\n",
       "    <tr>\n",
       "      <th>2</th>\n",
       "      <td>Uttarahalli</td>\n",
       "      <td>2.0</td>\n",
       "      <td>3.0</td>\n",
       "      <td>62.00</td>\n",
       "      <td>3.0</td>\n",
       "      <td>1440.0</td>\n",
       "    </tr>\n",
       "    <tr>\n",
       "      <th>3</th>\n",
       "      <td>Lingadheeranahalli</td>\n",
       "      <td>3.0</td>\n",
       "      <td>1.0</td>\n",
       "      <td>95.00</td>\n",
       "      <td>3.0</td>\n",
       "      <td>1521.0</td>\n",
       "    </tr>\n",
       "    <tr>\n",
       "      <th>4</th>\n",
       "      <td>Kothanur</td>\n",
       "      <td>2.0</td>\n",
       "      <td>1.0</td>\n",
       "      <td>51.00</td>\n",
       "      <td>2.0</td>\n",
       "      <td>1200.0</td>\n",
       "    </tr>\n",
       "    <tr>\n",
       "      <th>8</th>\n",
       "      <td>Marathahalli</td>\n",
       "      <td>3.0</td>\n",
       "      <td>1.0</td>\n",
       "      <td>63.25</td>\n",
       "      <td>3.0</td>\n",
       "      <td>1310.0</td>\n",
       "    </tr>\n",
       "    <tr>\n",
       "      <th>10</th>\n",
       "      <td>Whitefield</td>\n",
       "      <td>2.0</td>\n",
       "      <td>2.0</td>\n",
       "      <td>70.00</td>\n",
       "      <td>3.0</td>\n",
       "      <td>1800.0</td>\n",
       "    </tr>\n",
       "  </tbody>\n",
       "</table>\n",
       "</div>"
      ],
      "text/plain": [
       "              location  bath  balcony  price  House_size  new_total_sqft\n",
       "2          Uttarahalli   2.0      3.0  62.00         3.0          1440.0\n",
       "3   Lingadheeranahalli   3.0      1.0  95.00         3.0          1521.0\n",
       "4             Kothanur   2.0      1.0  51.00         2.0          1200.0\n",
       "8         Marathahalli   3.0      1.0  63.25         3.0          1310.0\n",
       "10          Whitefield   2.0      2.0  70.00         3.0          1800.0"
      ]
     },
     "execution_count": 4,
     "metadata": {},
     "output_type": "execute_result"
    }
   ],
   "source": [
    "df.head()\n"
   ]
  },
  {
   "cell_type": "markdown",
   "id": "4b23735c",
   "metadata": {},
   "source": [
    "It is well known that multicollinearity detection methods rely on numerical data. These methods calculate correlation coefficients or variance inflation factors (VIFs) between predictor variables, which requires numerical inputs. If categorical variables are not encoded, multicollinearity checks cannot be accurately performed. For this reason, we use encode the categorical column in our dataset."
   ]
  },
  {
   "cell_type": "code",
   "execution_count": 4,
   "id": "7e48dc4f",
   "metadata": {},
   "outputs": [
    {
     "data": {
      "text/plain": [
       "849"
      ]
     },
     "execution_count": 4,
     "metadata": {},
     "output_type": "execute_result"
    }
   ],
   "source": [
    "df[\"location\"].nunique()"
   ]
  },
  {
   "cell_type": "markdown",
   "id": "e26a3fc4",
   "metadata": {},
   "source": [
    "Encoding the location column using categorical frequency encoding method."
   ]
  },
  {
   "cell_type": "code",
   "execution_count": 5,
   "id": "21cd2bd9",
   "metadata": {},
   "outputs": [],
   "source": [
    "frequency_map = df['location'].value_counts(normalize=True).to_dict()\n",
    "\n",
    "# Apply frequency encoding\n",
    "df['Category_Frequency_Encoded'] = df['location'].map(frequency_map)"
   ]
  },
  {
   "cell_type": "code",
   "execution_count": 14,
   "id": "e0189ba5",
   "metadata": {},
   "outputs": [
    {
     "data": {
      "text/html": [
       "<div>\n",
       "<style scoped>\n",
       "    .dataframe tbody tr th:only-of-type {\n",
       "        vertical-align: middle;\n",
       "    }\n",
       "\n",
       "    .dataframe tbody tr th {\n",
       "        vertical-align: top;\n",
       "    }\n",
       "\n",
       "    .dataframe thead th {\n",
       "        text-align: right;\n",
       "    }\n",
       "</style>\n",
       "<table border=\"1\" class=\"dataframe\">\n",
       "  <thead>\n",
       "    <tr style=\"text-align: right;\">\n",
       "      <th></th>\n",
       "      <th>location</th>\n",
       "      <th>bath</th>\n",
       "      <th>balcony</th>\n",
       "      <th>price</th>\n",
       "      <th>House_size</th>\n",
       "      <th>new_total_sqft</th>\n",
       "      <th>Category_Frequency_Encoded</th>\n",
       "    </tr>\n",
       "  </thead>\n",
       "  <tbody>\n",
       "    <tr>\n",
       "      <th>2</th>\n",
       "      <td>Uttarahalli</td>\n",
       "      <td>2.0</td>\n",
       "      <td>3.0</td>\n",
       "      <td>62.00</td>\n",
       "      <td>3.0</td>\n",
       "      <td>1440.0</td>\n",
       "      <td>0.021298</td>\n",
       "    </tr>\n",
       "    <tr>\n",
       "      <th>3</th>\n",
       "      <td>Lingadheeranahalli</td>\n",
       "      <td>3.0</td>\n",
       "      <td>1.0</td>\n",
       "      <td>95.00</td>\n",
       "      <td>3.0</td>\n",
       "      <td>1521.0</td>\n",
       "      <td>0.002430</td>\n",
       "    </tr>\n",
       "    <tr>\n",
       "      <th>4</th>\n",
       "      <td>Kothanur</td>\n",
       "      <td>2.0</td>\n",
       "      <td>1.0</td>\n",
       "      <td>51.00</td>\n",
       "      <td>2.0</td>\n",
       "      <td>1200.0</td>\n",
       "      <td>0.006861</td>\n",
       "    </tr>\n",
       "    <tr>\n",
       "      <th>8</th>\n",
       "      <td>Marathahalli</td>\n",
       "      <td>3.0</td>\n",
       "      <td>1.0</td>\n",
       "      <td>63.25</td>\n",
       "      <td>3.0</td>\n",
       "      <td>1310.0</td>\n",
       "      <td>0.016581</td>\n",
       "    </tr>\n",
       "    <tr>\n",
       "      <th>10</th>\n",
       "      <td>Whitefield</td>\n",
       "      <td>2.0</td>\n",
       "      <td>2.0</td>\n",
       "      <td>70.00</td>\n",
       "      <td>3.0</td>\n",
       "      <td>1800.0</td>\n",
       "      <td>0.044883</td>\n",
       "    </tr>\n",
       "  </tbody>\n",
       "</table>\n",
       "</div>"
      ],
      "text/plain": [
       "              location  bath  balcony  price  House_size  new_total_sqft  \\\n",
       "2          Uttarahalli   2.0      3.0  62.00         3.0          1440.0   \n",
       "3   Lingadheeranahalli   3.0      1.0  95.00         3.0          1521.0   \n",
       "4             Kothanur   2.0      1.0  51.00         2.0          1200.0   \n",
       "8         Marathahalli   3.0      1.0  63.25         3.0          1310.0   \n",
       "10          Whitefield   2.0      2.0  70.00         3.0          1800.0   \n",
       "\n",
       "    Category_Frequency_Encoded  \n",
       "2                     0.021298  \n",
       "3                     0.002430  \n",
       "4                     0.006861  \n",
       "8                     0.016581  \n",
       "10                    0.044883  "
      ]
     },
     "execution_count": 14,
     "metadata": {},
     "output_type": "execute_result"
    }
   ],
   "source": [
    "df.head()"
   ]
  },
  {
   "cell_type": "code",
   "execution_count": 19,
   "id": "46cd5ce7",
   "metadata": {},
   "outputs": [
    {
     "data": {
      "text/html": [
       "<div>\n",
       "<style scoped>\n",
       "    .dataframe tbody tr th:only-of-type {\n",
       "        vertical-align: middle;\n",
       "    }\n",
       "\n",
       "    .dataframe tbody tr th {\n",
       "        vertical-align: top;\n",
       "    }\n",
       "\n",
       "    .dataframe thead th {\n",
       "        text-align: right;\n",
       "    }\n",
       "</style>\n",
       "<table border=\"1\" class=\"dataframe\">\n",
       "  <thead>\n",
       "    <tr style=\"text-align: right;\">\n",
       "      <th></th>\n",
       "      <th>bath</th>\n",
       "      <th>balcony</th>\n",
       "      <th>House_size</th>\n",
       "      <th>new_total_sqft</th>\n",
       "      <th>Category_Frequency_Encoded</th>\n",
       "    </tr>\n",
       "  </thead>\n",
       "  <tbody>\n",
       "    <tr>\n",
       "      <th>2</th>\n",
       "      <td>2.0</td>\n",
       "      <td>3.0</td>\n",
       "      <td>3.0</td>\n",
       "      <td>1440.0</td>\n",
       "      <td>0.021298</td>\n",
       "    </tr>\n",
       "    <tr>\n",
       "      <th>3</th>\n",
       "      <td>3.0</td>\n",
       "      <td>1.0</td>\n",
       "      <td>3.0</td>\n",
       "      <td>1521.0</td>\n",
       "      <td>0.002430</td>\n",
       "    </tr>\n",
       "    <tr>\n",
       "      <th>4</th>\n",
       "      <td>2.0</td>\n",
       "      <td>1.0</td>\n",
       "      <td>2.0</td>\n",
       "      <td>1200.0</td>\n",
       "      <td>0.006861</td>\n",
       "    </tr>\n",
       "    <tr>\n",
       "      <th>8</th>\n",
       "      <td>3.0</td>\n",
       "      <td>1.0</td>\n",
       "      <td>3.0</td>\n",
       "      <td>1310.0</td>\n",
       "      <td>0.016581</td>\n",
       "    </tr>\n",
       "    <tr>\n",
       "      <th>10</th>\n",
       "      <td>2.0</td>\n",
       "      <td>2.0</td>\n",
       "      <td>3.0</td>\n",
       "      <td>1800.0</td>\n",
       "      <td>0.044883</td>\n",
       "    </tr>\n",
       "  </tbody>\n",
       "</table>\n",
       "</div>"
      ],
      "text/plain": [
       "    bath  balcony  House_size  new_total_sqft  Category_Frequency_Encoded\n",
       "2    2.0      3.0         3.0          1440.0                    0.021298\n",
       "3    3.0      1.0         3.0          1521.0                    0.002430\n",
       "4    2.0      1.0         2.0          1200.0                    0.006861\n",
       "8    3.0      1.0         3.0          1310.0                    0.016581\n",
       "10   2.0      2.0         3.0          1800.0                    0.044883"
      ]
     },
     "execution_count": 19,
     "metadata": {},
     "output_type": "execute_result"
    }
   ],
   "source": [
    "df_num =  df.drop(columns=[\"location\",\"price\"])\n",
    "df_num.head()"
   ]
  },
  {
   "cell_type": "code",
   "execution_count": 9,
   "id": "e952218f",
   "metadata": {},
   "outputs": [
    {
     "data": {
      "text/html": [
       "<div>\n",
       "<style scoped>\n",
       "    .dataframe tbody tr th:only-of-type {\n",
       "        vertical-align: middle;\n",
       "    }\n",
       "\n",
       "    .dataframe tbody tr th {\n",
       "        vertical-align: top;\n",
       "    }\n",
       "\n",
       "    .dataframe thead th {\n",
       "        text-align: right;\n",
       "    }\n",
       "</style>\n",
       "<table border=\"1\" class=\"dataframe\">\n",
       "  <thead>\n",
       "    <tr style=\"text-align: right;\">\n",
       "      <th></th>\n",
       "      <th>bath</th>\n",
       "      <th>balcony</th>\n",
       "      <th>House_size</th>\n",
       "      <th>new_total_sqft</th>\n",
       "      <th>Category_Frequency_Encoded</th>\n",
       "    </tr>\n",
       "  </thead>\n",
       "  <tbody>\n",
       "    <tr>\n",
       "      <th>bath</th>\n",
       "      <td>1.000000</td>\n",
       "      <td>0.195703</td>\n",
       "      <td>0.649493</td>\n",
       "      <td>0.628447</td>\n",
       "      <td>-0.000738</td>\n",
       "    </tr>\n",
       "    <tr>\n",
       "      <th>balcony</th>\n",
       "      <td>0.195703</td>\n",
       "      <td>1.000000</td>\n",
       "      <td>0.173853</td>\n",
       "      <td>0.251979</td>\n",
       "      <td>-0.014486</td>\n",
       "    </tr>\n",
       "    <tr>\n",
       "      <th>House_size</th>\n",
       "      <td>0.649493</td>\n",
       "      <td>0.173853</td>\n",
       "      <td>1.000000</td>\n",
       "      <td>0.643539</td>\n",
       "      <td>-0.031742</td>\n",
       "    </tr>\n",
       "    <tr>\n",
       "      <th>new_total_sqft</th>\n",
       "      <td>0.628447</td>\n",
       "      <td>0.251979</td>\n",
       "      <td>0.643539</td>\n",
       "      <td>1.000000</td>\n",
       "      <td>0.016814</td>\n",
       "    </tr>\n",
       "    <tr>\n",
       "      <th>Category_Frequency_Encoded</th>\n",
       "      <td>-0.000738</td>\n",
       "      <td>-0.014486</td>\n",
       "      <td>-0.031742</td>\n",
       "      <td>0.016814</td>\n",
       "      <td>1.000000</td>\n",
       "    </tr>\n",
       "  </tbody>\n",
       "</table>\n",
       "</div>"
      ],
      "text/plain": [
       "                                bath   balcony  House_size  new_total_sqft  \\\n",
       "bath                        1.000000  0.195703    0.649493        0.628447   \n",
       "balcony                     0.195703  1.000000    0.173853        0.251979   \n",
       "House_size                  0.649493  0.173853    1.000000        0.643539   \n",
       "new_total_sqft              0.628447  0.251979    0.643539        1.000000   \n",
       "Category_Frequency_Encoded -0.000738 -0.014486   -0.031742        0.016814   \n",
       "\n",
       "                            Category_Frequency_Encoded  \n",
       "bath                                         -0.000738  \n",
       "balcony                                      -0.014486  \n",
       "House_size                                   -0.031742  \n",
       "new_total_sqft                                0.016814  \n",
       "Category_Frequency_Encoded                    1.000000  "
      ]
     },
     "execution_count": 9,
     "metadata": {},
     "output_type": "execute_result"
    }
   ],
   "source": [
    "corr =df_num.corr()\n",
    "corr"
   ]
  },
  {
   "cell_type": "code",
   "execution_count": 13,
   "id": "99ac5279",
   "metadata": {},
   "outputs": [
    {
     "data": {
      "text/plain": [
       "<Axes: >"
      ]
     },
     "execution_count": 13,
     "metadata": {},
     "output_type": "execute_result"
    },
    {
     "data": {
      "image/png": "[encoded data removed]",
      "text/plain": [
       "<Figure size 640x480 with 2 Axes>"
      ]
     },
     "metadata": {},
     "output_type": "display_data"
    }
   ],
   "source": [
    "sns.heatmap(corr)"
   ]
  },
  {
   "cell_type": "markdown",
   "id": "4bbdd655",
   "metadata": {},
   "source": [
    "To check if our multicollinearity plot is efficient and good enough for model bulding, we apply the Ordinary least square summary. "
   ]
  },
  {
   "cell_type": "code",
   "execution_count": 11,
   "id": "55488398",
   "metadata": {},
   "outputs": [
    {
     "name": "stdout",
     "output_type": "stream",
     "text": [
      "                            OLS Regression Results                            \n",
      "==============================================================================\n",
      "Dep. Variable:                  price   R-squared:                       0.312\n",
      "Model:                            OLS   Adj. R-squared:                  0.311\n",
      "Method:                 Least Squares   F-statistic:                     632.6\n",
      "Date:                Wed, 03 Apr 2024   Prob (F-statistic):               0.00\n",
      "Time:                        17:10:05   Log-Likelihood:                -32055.\n",
      "No. Observations:                6996   AIC:                         6.412e+04\n",
      "Df Residuals:                    6990   BIC:                         6.416e+04\n",
      "Df Model:                           5                                         \n",
      "Covariance Type:            nonrobust                                         \n",
      "==============================================================================================\n",
      "                                 coef    std err          t      P>|t|      [0.025      0.975]\n",
      "----------------------------------------------------------------------------------------------\n",
      "const                        -23.9522      1.920    -12.478      0.000     -27.715     -20.189\n",
      "bath                           9.2555      0.876     10.569      0.000       7.539      10.972\n",
      "balcony                       -4.8861      0.389    -12.547      0.000      -5.650      -4.123\n",
      "House_size                    -2.7611      0.779     -3.542      0.000      -4.289      -1.233\n",
      "new_total_sqft                 0.0701      0.002     35.669      0.000       0.066       0.074\n",
      "Category_Frequency_Encoded  -198.8012     25.376     -7.834      0.000    -248.545    -149.057\n",
      "==============================================================================\n",
      "Omnibus:                     2326.763   Durbin-Watson:                   2.038\n",
      "Prob(Omnibus):                  0.000   Jarque-Bera (JB):             8996.110\n",
      "Skew:                           1.624   Prob(JB):                         0.00\n",
      "Kurtosis:                       7.507   Cond. No.                     1.21e+05\n",
      "==============================================================================\n",
      "\n",
      "Notes:\n",
      "[1] Standard Errors assume that the covariance matrix of the errors is correctly specified.\n",
      "[2] The condition number is large, 1.21e+05. This might indicate that there are\n",
      "strong multicollinearity or other numerical problems.\n"
     ]
    }
   ],
   "source": [
    "X = df_num\n",
    "y = df['price']\n",
    "\n",
    "\n",
    "# Add a constant term for the intercept\n",
    "X = sm.add_constant(X)  \n",
    "\n",
    "\n",
    "# Fit the OLS model that includes an intercept term\n",
    "model = sm.OLS(y, X).fit()\n",
    "\n",
    "print(model.summary())"
   ]
  },
  {
   "cell_type": "markdown",
   "id": "11c28748",
   "metadata": {},
   "source": [
    "From Our summary it shows that condition number is large implying there might be strong multicollinearity or other numerical problems. \n",
    "\n",
    " Therefore to confirm if the large condition number is as a result of multicollinearity, we apply the Variance Inflation Factor method"
   ]
  },
  {
   "cell_type": "code",
   "execution_count": 12,
   "id": "2e6e3811",
   "metadata": {},
   "outputs": [
    {
     "name": "stdout",
     "output_type": "stream",
     "text": [
      "                     Variable        VIF\n",
      "0                       const  46.087040\n",
      "1                        bath   1.994537\n",
      "2                     balcony   1.070846\n",
      "3                  House_size   2.061265\n",
      "4              new_total_sqft   2.017639\n",
      "5  Category_Frequency_Encoded   1.003832\n"
     ]
    }
   ],
   "source": [
    "# Add a constant column for intercept in the DataFrame\n",
    "X = add_constant(df_num)\n",
    "# Calculate VIF for each predictor variable\n",
    "vif_data = pd.DataFrame()\n",
    "vif_data[\"Variable\"] = X.columns\n",
    "vif_data[\"VIF\"] = [variance_inflation_factor(X.values, i) for i in range(X.shape[1])]\n",
    "\n",
    "print(vif_data)"
   ]
  },
  {
   "cell_type": "markdown",
   "id": "3cd1f8f1",
   "metadata": {},
   "source": [
    "The VIF results suggest that there is no multicollinearity issue among the predictor variables in your regression model, since the values of VIF are lesser than the threshole of the VIF."
   ]
  },
  {
   "cell_type": "code",
   "execution_count": 1,
   "id": "5351a600",
   "metadata": {},
   "outputs": [
    {
     "ename": "NameError",
     "evalue": "name 'df' is not defined",
     "output_type": "error",
     "traceback": [
      "\u001b[1;31m---------------------------------------------------------------------------\u001b[0m",
      "\u001b[1;31mNameError\u001b[0m                                 Traceback (most recent call last)",
      "Cell \u001b[1;32mIn[1], line 1\u001b[0m\n\u001b[1;32m----> 1\u001b[0m \u001b[43mdf\u001b[49m\u001b[38;5;241m.\u001b[39mto_csv(csv_file, index\u001b[38;5;241m=\u001b[39m\u001b[38;5;28;01mFalse\u001b[39;00m)\n",
      "\u001b[1;31mNameError\u001b[0m: name 'df' is not defined"
     ]
    }
   ],
   "source": [
    " df.to_csv(csv_file, index=False)"
   ]
  },
  {
   "cell_type": "code",
   "execution_count": null,
   "id": "bd1f712f",
   "metadata": {},
   "outputs": [],
   "source": []
  }
 ],
 "metadata": {
  "kernelspec": {
   "display_name": "Python 3 (ipykernel)",
   "language": "python",
   "name": "python3"
  },
  "language_info": {
   "codemirror_mode": {
    "name": "ipython",
    "version": 3
   },
   "file_extension": ".py",
   "mimetype": "text/x-python",
   "name": "python",
   "nbconvert_exporter": "python",
   "pygments_lexer": "ipython3",
   "version": "3.11.5"
  }
 },
 "nbformat": 4,
 "nbformat_minor": 5
}

{
 "cells": [
  {
   "cell_type": "markdown",
   "id": "0c38c674",
   "metadata": {},
   "source": [
    "# Cleaning the bengaluru dataset"
   ]
  },
  {
   "cell_type": "markdown",
   "id": "c0fb7484",
   "metadata": {},
   "source": [
    "## Import Libraries"
   ]
  },
  {
   "cell_type": "code",
   "execution_count": 1,
   "id": "0d40f684",
   "metadata": {},
   "outputs": [],
   "source": [
    "import pandas as pd\n",
    "import numpy as np\n",
    "import seaborn as sns"
   ]
  },
  {
   "cell_type": "markdown",
   "id": "c109a8f4",
   "metadata": {},
   "source": [
    "## Create a pipeline "
   ]
  },
  {
   "cell_type": "code",
   "execution_count": 2,
   "id": "69a6697d",
   "metadata": {},
   "outputs": [],
   "source": [
    "def wrangle(filepath):\n",
    "    '''\n",
    "    Wrangles the data in the specified CSV file to prepare it for analysis.\n",
    "\n",
    "    Parameters:\n",
    "    - filepath (str): The file path to the CSV file containing the data.\n",
    "\n",
    "    Returns:\n",
    "    - DataFrame: A cleaned and processed DataFrame ready for analysis.\n",
    "\n",
    "    Steps:\n",
    "    1. Reads the CSV file into a DataFrame.\n",
    "    2. Drops columns with less useful information (society, availability, area_type).\n",
    "    3. Splits the \"size\" column into \"House_size\" and \"house_ppty\" columns, converting to float.\n",
    "    4. Drops the \"size\" and \"house_ppty\" columns.\n",
    "    5. Checks for multicollinearity among numeric columns.\n",
    "    6. Cleans the \"total_sqft\" column by converting strings to floats, handling ranges, and removing null values.\n",
    "    7. Drops outliers based on quantiles for \"House_size\", \"new_total_sqft\", \"price\", and \"bath\" columns.\n",
    "    8. Drops rows with null values in the \"location\" column.\n",
    "    9. Calculates the average of the \"balcony\" column and fills null values with the average.\n",
    "\n",
    "    Note:\n",
    "    - This function assumes a specific structure and format of the input CSV file.\n",
    "    - It performs data cleaning, outlier removal, and handling of missing values to prepare the data for analysis.\n",
    "\n",
    "    \n",
    "    '''\n",
    "    df = pd.read_csv(\"bengaluru_house_prices.csv\")\n",
    "    \n",
    "    #drop columns with less useful information\n",
    "    df.drop(columns=['society', 'availability', 'area_type'], inplace=True)\n",
    "    \n",
    "    #split column \"size\" \n",
    "    df[[\"House_size\", \"house_ppty\"]] = df[\"size\"].str.split(\" \", n=1, expand=True).astype({0: float})\n",
    "    \n",
    "    #drop size column and house_type\n",
    "    df.drop(columns=[\"house_ppty\",\"size\"], inplace=True)\n",
    "    \n",
    "    #checking for multicollinearity \n",
    "    corr = df.select_dtypes(\"number\").corr()\n",
    "    \n",
    "    \n",
    "    # Cleaning total_sqft column by splitting,averaging\n",
    "    #the rows where necessary and removing null.\n",
    "    \n",
    "    total_sqft_int = []\n",
    "\n",
    "    for val in df['total_sqft']:\n",
    "        try:\n",
    "            total_sqft_int.append(float(val))\n",
    "        except:\n",
    "            try:\n",
    "                val = val.split('-')\n",
    "                total_sqft_int.append((float(val[0]) + float(val[1])) / 2)  \n",
    "            except:\n",
    "                total_sqft_int.append(np.nan)\n",
    "\n",
    "    # join new integer column\n",
    "    df = df.join(pd.DataFrame({'new_total_sqft':total_sqft_int}))\n",
    "\n",
    "    #convert the column to float\n",
    "    df[\"new_total_sqft\"] = df[\"new_total_sqft\"].astype(float)\n",
    "    \n",
    "    #Dropping the outliers\n",
    "    low, high = df[\"House_size\"].quantile([0.1, 0.9])\n",
    "    mask_bath = df[\"House_size\"].between(low, high)\n",
    "    df = df[mask_bath]\n",
    "    \n",
    "    low, high = df[\"new_total_sqft\"].quantile([0.1, 0.9])\n",
    "    mask_new_tot = df[\"new_total_sqft\"].between(low, high)\n",
    "    df = df[mask_new_tot]\n",
    "    \n",
    "    low, high = df[\"price\"].quantile([0.1, 0.9])\n",
    "    mask_price = df[\"price\"].between(low, high)\n",
    "    df = df[mask_price]\n",
    "    \n",
    "    low, high = df[\"bath\"].quantile([0.1, 0.9])\n",
    "    mask_bath = df[\"bath\"].between(low, high)\n",
    "    df = df[mask_bath]\n",
    "    \n",
    "    # Dropping null values in location column\n",
    "    df.dropna(subset=['location'], inplace=True, axis=0)\n",
    "    \n",
    "    # Finding average of balcony column and inputing the average inplace of na\n",
    "    balcony_avg = df[\"balcony\"].mean().round()\n",
    "    df['balcony'].fillna(balcony_avg, inplace=True)\n",
    "    df.drop(columns=[\"total_sqft\"], inplace=True)\n",
    "    \n",
    "    return df\n",
    "    "
   ]
  },
  {
   "cell_type": "markdown",
   "id": "8f088b75",
   "metadata": {},
   "source": [
    "## Importing the dataset"
   ]
  },
  {
   "cell_type": "code",
   "execution_count": 3,
   "id": "bd69a4a5",
   "metadata": {},
   "outputs": [],
   "source": [
    "df = pd.read_csv(\"bengaluru_house_prices.csv\")"
   ]
  },
  {
   "cell_type": "markdown",
   "id": "2dd702b1",
   "metadata": {},
   "source": [
    "## Checking the dataset for proper understanding"
   ]
  },
  {
   "cell_type": "code",
   "execution_count": 4,
   "id": "09eec941",
   "metadata": {},
   "outputs": [
    {
     "data": {
      "text/html": [
       "<div>\n",
       "<style scoped>\n",
       "    .dataframe tbody tr th:only-of-type {\n",
       "        vertical-align: middle;\n",
       "    }\n",
       "\n",
       "    .dataframe tbody tr th {\n",
       "        vertical-align: top;\n",
       "    }\n",
       "\n",
       "    .dataframe thead th {\n",
       "        text-align: right;\n",
       "    }\n",
       "</style>\n",
       "<table border=\"1\" class=\"dataframe\">\n",
       "  <thead>\n",
       "    <tr style=\"text-align: right;\">\n",
       "      <th></th>\n",
       "      <th>area_type</th>\n",
       "      <th>availability</th>\n",
       "      <th>location</th>\n",
       "      <th>size</th>\n",
       "      <th>society</th>\n",
       "      <th>total_sqft</th>\n",
       "      <th>bath</th>\n",
       "      <th>balcony</th>\n",
       "      <th>price</th>\n",
       "    </tr>\n",
       "  </thead>\n",
       "  <tbody>\n",
       "    <tr>\n",
       "      <th>0</th>\n",
       "      <td>Super built-up  Area</td>\n",
       "      <td>19-Dec</td>\n",
       "      <td>Electronic City Phase II</td>\n",
       "      <td>2 BHK</td>\n",
       "      <td>Coomee</td>\n",
       "      <td>1056</td>\n",
       "      <td>2.0</td>\n",
       "      <td>1.0</td>\n",
       "      <td>39.07</td>\n",
       "    </tr>\n",
       "    <tr>\n",
       "      <th>1</th>\n",
       "      <td>Plot  Area</td>\n",
       "      <td>Ready To Move</td>\n",
       "      <td>Chikka Tirupathi</td>\n",
       "      <td>4 Bedroom</td>\n",
       "      <td>Theanmp</td>\n",
       "      <td>2600</td>\n",
       "      <td>5.0</td>\n",
       "      <td>3.0</td>\n",
       "      <td>120.00</td>\n",
       "    </tr>\n",
       "    <tr>\n",
       "      <th>2</th>\n",
       "      <td>Built-up  Area</td>\n",
       "      <td>Ready To Move</td>\n",
       "      <td>Uttarahalli</td>\n",
       "      <td>3 BHK</td>\n",
       "      <td>NaN</td>\n",
       "      <td>1440</td>\n",
       "      <td>2.0</td>\n",
       "      <td>3.0</td>\n",
       "      <td>62.00</td>\n",
       "    </tr>\n",
       "    <tr>\n",
       "      <th>3</th>\n",
       "      <td>Super built-up  Area</td>\n",
       "      <td>Ready To Move</td>\n",
       "      <td>Lingadheeranahalli</td>\n",
       "      <td>3 BHK</td>\n",
       "      <td>Soiewre</td>\n",
       "      <td>1521</td>\n",
       "      <td>3.0</td>\n",
       "      <td>1.0</td>\n",
       "      <td>95.00</td>\n",
       "    </tr>\n",
       "    <tr>\n",
       "      <th>4</th>\n",
       "      <td>Super built-up  Area</td>\n",
       "      <td>Ready To Move</td>\n",
       "      <td>Kothanur</td>\n",
       "      <td>2 BHK</td>\n",
       "      <td>NaN</td>\n",
       "      <td>1200</td>\n",
       "      <td>2.0</td>\n",
       "      <td>1.0</td>\n",
       "      <td>51.00</td>\n",
       "    </tr>\n",
       "  </tbody>\n",
       "</table>\n",
       "</div>"
      ],
      "text/plain": [
       "              area_type   availability                  location       size  \\\n",
       "0  Super built-up  Area         19-Dec  Electronic City Phase II      2 BHK   \n",
       "1            Plot  Area  Ready To Move          Chikka Tirupathi  4 Bedroom   \n",
       "2        Built-up  Area  Ready To Move               Uttarahalli      3 BHK   \n",
       "3  Super built-up  Area  Ready To Move        Lingadheeranahalli      3 BHK   \n",
       "4  Super built-up  Area  Ready To Move                  Kothanur      2 BHK   \n",
       "\n",
       "   society total_sqft  bath  balcony   price  \n",
       "0  Coomee        1056   2.0      1.0   39.07  \n",
       "1  Theanmp       2600   5.0      3.0  120.00  \n",
       "2      NaN       1440   2.0      3.0   62.00  \n",
       "3  Soiewre       1521   3.0      1.0   95.00  \n",
       "4      NaN       1200   2.0      1.0   51.00  "
      ]
     },
     "execution_count": 4,
     "metadata": {},
     "output_type": "execute_result"
    }
   ],
   "source": [
    "df.head()"
   ]
  },
  {
   "cell_type": "markdown",
   "id": "700909e3",
   "metadata": {},
   "source": [
    "## Dropping irrelevant colums"
   ]
  },
  {
   "cell_type": "code",
   "execution_count": 5,
   "id": "0d7524ea",
   "metadata": {},
   "outputs": [],
   "source": [
    "df.drop(columns=['society', 'availability', 'area_type'], inplace=True)"
   ]
  },
  {
   "cell_type": "code",
   "execution_count": 6,
   "id": "2c8da69f",
   "metadata": {},
   "outputs": [
    {
     "data": {
      "text/html": [
       "<div>\n",
       "<style scoped>\n",
       "    .dataframe tbody tr th:only-of-type {\n",
       "        vertical-align: middle;\n",
       "    }\n",
       "\n",
       "    .dataframe tbody tr th {\n",
       "        vertical-align: top;\n",
       "    }\n",
       "\n",
       "    .dataframe thead th {\n",
       "        text-align: right;\n",
       "    }\n",
       "</style>\n",
       "<table border=\"1\" class=\"dataframe\">\n",
       "  <thead>\n",
       "    <tr style=\"text-align: right;\">\n",
       "      <th></th>\n",
       "      <th>location</th>\n",
       "      <th>size</th>\n",
       "      <th>total_sqft</th>\n",
       "      <th>bath</th>\n",
       "      <th>balcony</th>\n",
       "      <th>price</th>\n",
       "    </tr>\n",
       "  </thead>\n",
       "  <tbody>\n",
       "    <tr>\n",
       "      <th>0</th>\n",
       "      <td>Electronic City Phase II</td>\n",
       "      <td>2 BHK</td>\n",
       "      <td>1056</td>\n",
       "      <td>2.0</td>\n",
       "      <td>1.0</td>\n",
       "      <td>39.07</td>\n",
       "    </tr>\n",
       "    <tr>\n",
       "      <th>1</th>\n",
       "      <td>Chikka Tirupathi</td>\n",
       "      <td>4 Bedroom</td>\n",
       "      <td>2600</td>\n",
       "      <td>5.0</td>\n",
       "      <td>3.0</td>\n",
       "      <td>120.00</td>\n",
       "    </tr>\n",
       "    <tr>\n",
       "      <th>2</th>\n",
       "      <td>Uttarahalli</td>\n",
       "      <td>3 BHK</td>\n",
       "      <td>1440</td>\n",
       "      <td>2.0</td>\n",
       "      <td>3.0</td>\n",
       "      <td>62.00</td>\n",
       "    </tr>\n",
       "    <tr>\n",
       "      <th>3</th>\n",
       "      <td>Lingadheeranahalli</td>\n",
       "      <td>3 BHK</td>\n",
       "      <td>1521</td>\n",
       "      <td>3.0</td>\n",
       "      <td>1.0</td>\n",
       "      <td>95.00</td>\n",
       "    </tr>\n",
       "    <tr>\n",
       "      <th>4</th>\n",
       "      <td>Kothanur</td>\n",
       "      <td>2 BHK</td>\n",
       "      <td>1200</td>\n",
       "      <td>2.0</td>\n",
       "      <td>1.0</td>\n",
       "      <td>51.00</td>\n",
       "    </tr>\n",
       "  </tbody>\n",
       "</table>\n",
       "</div>"
      ],
      "text/plain": [
       "                   location       size total_sqft  bath  balcony   price\n",
       "0  Electronic City Phase II      2 BHK       1056   2.0      1.0   39.07\n",
       "1          Chikka Tirupathi  4 Bedroom       2600   5.0      3.0  120.00\n",
       "2               Uttarahalli      3 BHK       1440   2.0      3.0   62.00\n",
       "3        Lingadheeranahalli      3 BHK       1521   3.0      1.0   95.00\n",
       "4                  Kothanur      2 BHK       1200   2.0      1.0   51.00"
      ]
     },
     "execution_count": 6,
     "metadata": {},
     "output_type": "execute_result"
    }
   ],
   "source": [
    "df.head()"
   ]
  },
  {
   "cell_type": "markdown",
   "id": "3c75eea9",
   "metadata": {},
   "source": [
    "## Split the size column  "
   ]
  },
  {
   "cell_type": "code",
   "execution_count": 7,
   "id": "9a3d7825",
   "metadata": {},
   "outputs": [],
   "source": [
    "df[[\"House_size\", \"house_ppty\"]] = df[\"size\"].str.split(\" \", n=1, expand=True).astype({0: float})"
   ]
  },
  {
   "cell_type": "code",
   "execution_count": 8,
   "id": "62b80254",
   "metadata": {},
   "outputs": [],
   "source": [
    "df.drop(columns=[\"house_ppty\",\"size\"], inplace=True)"
   ]
  },
  {
   "cell_type": "markdown",
   "id": "fc1386e6",
   "metadata": {},
   "source": [
    "##  Cleaning total_sqft column by splitting,averaging the rows where necessary and removing null."
   ]
  },
  {
   "cell_type": "code",
   "execution_count": 9,
   "id": "d7b2cb02",
   "metadata": {},
   "outputs": [],
   "source": [
    "total_sqft_int = []\n",
    "\n",
    "for val in df['total_sqft']:\n",
    "    try:\n",
    "        total_sqft_int.append(float(val))\n",
    "    except:\n",
    "        try:\n",
    "            val = val.split('-')\n",
    "            total_sqft_int.append((float(val[0]) + float(val[1])) / 2)  \n",
    "        except:\n",
    "            total_sqft_int.append(np.nan)\n",
    "            "
   ]
  },
  {
   "cell_type": "markdown",
   "id": "24bd5298",
   "metadata": {},
   "source": [
    "## Join new integer column"
   ]
  },
  {
   "cell_type": "code",
   "execution_count": 10,
   "id": "12c6a7e4",
   "metadata": {},
   "outputs": [],
   "source": [
    "df = df.join(pd.DataFrame({'new_total_sqft':total_sqft_int}))"
   ]
  },
  {
   "cell_type": "markdown",
   "id": "1b2eba84",
   "metadata": {},
   "source": [
    "## Making the newly created column a float "
   ]
  },
  {
   "cell_type": "code",
   "execution_count": 11,
   "id": "8a00d3b2",
   "metadata": {},
   "outputs": [],
   "source": [
    "df[\"new_total_sqft\"] = df[\"new_total_sqft\"].astype(float)"
   ]
  },
  {
   "cell_type": "code",
   "execution_count": 12,
   "id": "2957c022",
   "metadata": {},
   "outputs": [
    {
     "data": {
      "text/html": [
       "<div>\n",
       "<style scoped>\n",
       "    .dataframe tbody tr th:only-of-type {\n",
       "        vertical-align: middle;\n",
       "    }\n",
       "\n",
       "    .dataframe tbody tr th {\n",
       "        vertical-align: top;\n",
       "    }\n",
       "\n",
       "    .dataframe thead th {\n",
       "        text-align: right;\n",
       "    }\n",
       "</style>\n",
       "<table border=\"1\" class=\"dataframe\">\n",
       "  <thead>\n",
       "    <tr style=\"text-align: right;\">\n",
       "      <th></th>\n",
       "      <th>bath</th>\n",
       "      <th>balcony</th>\n",
       "      <th>price</th>\n",
       "      <th>House_size</th>\n",
       "      <th>new_total_sqft</th>\n",
       "    </tr>\n",
       "  </thead>\n",
       "  <tbody>\n",
       "    <tr>\n",
       "      <th>count</th>\n",
       "      <td>13247.000000</td>\n",
       "      <td>12711.000000</td>\n",
       "      <td>13320.000000</td>\n",
       "      <td>13304.000000</td>\n",
       "      <td>13274.000000</td>\n",
       "    </tr>\n",
       "    <tr>\n",
       "      <th>mean</th>\n",
       "      <td>2.692610</td>\n",
       "      <td>1.584376</td>\n",
       "      <td>112.565627</td>\n",
       "      <td>2.803743</td>\n",
       "      <td>1559.626694</td>\n",
       "    </tr>\n",
       "    <tr>\n",
       "      <th>std</th>\n",
       "      <td>1.341458</td>\n",
       "      <td>0.817263</td>\n",
       "      <td>148.971674</td>\n",
       "      <td>1.294974</td>\n",
       "      <td>1238.405258</td>\n",
       "    </tr>\n",
       "    <tr>\n",
       "      <th>min</th>\n",
       "      <td>1.000000</td>\n",
       "      <td>0.000000</td>\n",
       "      <td>8.000000</td>\n",
       "      <td>1.000000</td>\n",
       "      <td>1.000000</td>\n",
       "    </tr>\n",
       "    <tr>\n",
       "      <th>25%</th>\n",
       "      <td>2.000000</td>\n",
       "      <td>1.000000</td>\n",
       "      <td>50.000000</td>\n",
       "      <td>2.000000</td>\n",
       "      <td>1100.000000</td>\n",
       "    </tr>\n",
       "    <tr>\n",
       "      <th>50%</th>\n",
       "      <td>2.000000</td>\n",
       "      <td>2.000000</td>\n",
       "      <td>72.000000</td>\n",
       "      <td>3.000000</td>\n",
       "      <td>1276.000000</td>\n",
       "    </tr>\n",
       "    <tr>\n",
       "      <th>75%</th>\n",
       "      <td>3.000000</td>\n",
       "      <td>2.000000</td>\n",
       "      <td>120.000000</td>\n",
       "      <td>3.000000</td>\n",
       "      <td>1680.000000</td>\n",
       "    </tr>\n",
       "    <tr>\n",
       "      <th>max</th>\n",
       "      <td>40.000000</td>\n",
       "      <td>3.000000</td>\n",
       "      <td>3600.000000</td>\n",
       "      <td>43.000000</td>\n",
       "      <td>52272.000000</td>\n",
       "    </tr>\n",
       "  </tbody>\n",
       "</table>\n",
       "</div>"
      ],
      "text/plain": [
       "               bath       balcony         price    House_size  new_total_sqft\n",
       "count  13247.000000  12711.000000  13320.000000  13304.000000    13274.000000\n",
       "mean       2.692610      1.584376    112.565627      2.803743     1559.626694\n",
       "std        1.341458      0.817263    148.971674      1.294974     1238.405258\n",
       "min        1.000000      0.000000      8.000000      1.000000        1.000000\n",
       "25%        2.000000      1.000000     50.000000      2.000000     1100.000000\n",
       "50%        2.000000      2.000000     72.000000      3.000000     1276.000000\n",
       "75%        3.000000      2.000000    120.000000      3.000000     1680.000000\n",
       "max       40.000000      3.000000   3600.000000     43.000000    52272.000000"
      ]
     },
     "execution_count": 12,
     "metadata": {},
     "output_type": "execute_result"
    }
   ],
   "source": [
    "df.describe()"
   ]
  },
  {
   "cell_type": "markdown",
   "id": "c19e7aec",
   "metadata": {},
   "source": [
    "## Removing outliers"
   ]
  },
  {
   "cell_type": "code",
   "execution_count": 35,
   "id": "9cdf15a6",
   "metadata": {},
   "outputs": [
    {
     "data": {
      "text/html": [
       "<div>\n",
       "<style scoped>\n",
       "    .dataframe tbody tr th:only-of-type {\n",
       "        vertical-align: middle;\n",
       "    }\n",
       "\n",
       "    .dataframe tbody tr th {\n",
       "        vertical-align: top;\n",
       "    }\n",
       "\n",
       "    .dataframe thead th {\n",
       "        text-align: right;\n",
       "    }\n",
       "</style>\n",
       "<table border=\"1\" class=\"dataframe\">\n",
       "  <thead>\n",
       "    <tr style=\"text-align: right;\">\n",
       "      <th></th>\n",
       "      <th>location</th>\n",
       "      <th>bath</th>\n",
       "      <th>balcony</th>\n",
       "      <th>price</th>\n",
       "      <th>House_size</th>\n",
       "      <th>new_total_sqft</th>\n",
       "    </tr>\n",
       "  </thead>\n",
       "  <tbody>\n",
       "    <tr>\n",
       "      <th>2</th>\n",
       "      <td>Uttarahalli</td>\n",
       "      <td>2.0</td>\n",
       "      <td>3.0</td>\n",
       "      <td>62.00</td>\n",
       "      <td>3.0</td>\n",
       "      <td>1440.0</td>\n",
       "    </tr>\n",
       "    <tr>\n",
       "      <th>3</th>\n",
       "      <td>Lingadheeranahalli</td>\n",
       "      <td>3.0</td>\n",
       "      <td>1.0</td>\n",
       "      <td>95.00</td>\n",
       "      <td>3.0</td>\n",
       "      <td>1521.0</td>\n",
       "    </tr>\n",
       "    <tr>\n",
       "      <th>4</th>\n",
       "      <td>Kothanur</td>\n",
       "      <td>2.0</td>\n",
       "      <td>1.0</td>\n",
       "      <td>51.00</td>\n",
       "      <td>2.0</td>\n",
       "      <td>1200.0</td>\n",
       "    </tr>\n",
       "    <tr>\n",
       "      <th>8</th>\n",
       "      <td>Marathahalli</td>\n",
       "      <td>3.0</td>\n",
       "      <td>1.0</td>\n",
       "      <td>63.25</td>\n",
       "      <td>3.0</td>\n",
       "      <td>1310.0</td>\n",
       "    </tr>\n",
       "    <tr>\n",
       "      <th>15</th>\n",
       "      <td>Mysore Road</td>\n",
       "      <td>2.0</td>\n",
       "      <td>2.0</td>\n",
       "      <td>73.50</td>\n",
       "      <td>2.0</td>\n",
       "      <td>1175.0</td>\n",
       "    </tr>\n",
       "    <tr>\n",
       "      <th>...</th>\n",
       "      <td>...</td>\n",
       "      <td>...</td>\n",
       "      <td>...</td>\n",
       "      <td>...</td>\n",
       "      <td>...</td>\n",
       "      <td>...</td>\n",
       "    </tr>\n",
       "    <tr>\n",
       "      <th>13304</th>\n",
       "      <td>Raja Rajeshwari Nagar</td>\n",
       "      <td>2.0</td>\n",
       "      <td>2.0</td>\n",
       "      <td>40.14</td>\n",
       "      <td>2.0</td>\n",
       "      <td>1187.0</td>\n",
       "    </tr>\n",
       "    <tr>\n",
       "      <th>13308</th>\n",
       "      <td>Bannerghatta Road</td>\n",
       "      <td>3.0</td>\n",
       "      <td>1.0</td>\n",
       "      <td>142.00</td>\n",
       "      <td>3.0</td>\n",
       "      <td>1527.0</td>\n",
       "    </tr>\n",
       "    <tr>\n",
       "      <th>13312</th>\n",
       "      <td>Bellandur</td>\n",
       "      <td>2.0</td>\n",
       "      <td>2.0</td>\n",
       "      <td>47.00</td>\n",
       "      <td>2.0</td>\n",
       "      <td>1262.0</td>\n",
       "    </tr>\n",
       "    <tr>\n",
       "      <th>13313</th>\n",
       "      <td>Uttarahalli</td>\n",
       "      <td>2.0</td>\n",
       "      <td>1.0</td>\n",
       "      <td>57.00</td>\n",
       "      <td>3.0</td>\n",
       "      <td>1345.0</td>\n",
       "    </tr>\n",
       "    <tr>\n",
       "      <th>13317</th>\n",
       "      <td>Raja Rajeshwari Nagar</td>\n",
       "      <td>2.0</td>\n",
       "      <td>1.0</td>\n",
       "      <td>60.00</td>\n",
       "      <td>2.0</td>\n",
       "      <td>1141.0</td>\n",
       "    </tr>\n",
       "  </tbody>\n",
       "</table>\n",
       "<p>4492 rows × 6 columns</p>\n",
       "</div>"
      ],
      "text/plain": [
       "                    location  bath  balcony   price  House_size  \\\n",
       "2                Uttarahalli   2.0      3.0   62.00         3.0   \n",
       "3         Lingadheeranahalli   3.0      1.0   95.00         3.0   \n",
       "4                   Kothanur   2.0      1.0   51.00         2.0   \n",
       "8               Marathahalli   3.0      1.0   63.25         3.0   \n",
       "15               Mysore Road   2.0      2.0   73.50         2.0   \n",
       "...                      ...   ...      ...     ...         ...   \n",
       "13304  Raja Rajeshwari Nagar   2.0      2.0   40.14         2.0   \n",
       "13308      Bannerghatta Road   3.0      1.0  142.00         3.0   \n",
       "13312              Bellandur   2.0      2.0   47.00         2.0   \n",
       "13313            Uttarahalli   2.0      1.0   57.00         3.0   \n",
       "13317  Raja Rajeshwari Nagar   2.0      1.0   60.00         2.0   \n",
       "\n",
       "       new_total_sqft  \n",
       "2              1440.0  \n",
       "3              1521.0  \n",
       "4              1200.0  \n",
       "8              1310.0  \n",
       "15             1175.0  \n",
       "...               ...  \n",
       "13304          1187.0  \n",
       "13308          1527.0  \n",
       "13312          1262.0  \n",
       "13313          1345.0  \n",
       "13317          1141.0  \n",
       "\n",
       "[4492 rows x 6 columns]"
      ]
     },
     "execution_count": 35,
     "metadata": {},
     "output_type": "execute_result"
    }
   ],
   "source": [
    "low, high = df[\"House_size\"].quantile([0.1, 0.9])\n",
    "mask_house = df[\"House_size\"].between(low, high)\n",
    "df = df[mask_house]\n",
    "df"
   ]
  },
  {
   "cell_type": "code",
   "execution_count": 14,
   "id": "1a65d9ef",
   "metadata": {},
   "outputs": [],
   "source": [
    "low, high = df[\"price\"].quantile([0.1, 0.9])\n",
    "mask_price = df[\"price\"].between(low, high)\n",
    "df = df[mask_price]"
   ]
  },
  {
   "cell_type": "code",
   "execution_count": 15,
   "id": "3fdd904f",
   "metadata": {},
   "outputs": [],
   "source": [
    "low, high = df[\"bath\"].quantile([0.1, 0.9])\n",
    "mask_bath = df[\"bath\"].between(low, high)\n",
    "df = df[mask_bath]"
   ]
  },
  {
   "cell_type": "code",
   "execution_count": 33,
   "id": "279a3c97",
   "metadata": {},
   "outputs": [
    {
     "data": {
      "text/html": [
       "<div>\n",
       "<style scoped>\n",
       "    .dataframe tbody tr th:only-of-type {\n",
       "        vertical-align: middle;\n",
       "    }\n",
       "\n",
       "    .dataframe tbody tr th {\n",
       "        vertical-align: top;\n",
       "    }\n",
       "\n",
       "    .dataframe thead th {\n",
       "        text-align: right;\n",
       "    }\n",
       "</style>\n",
       "<table border=\"1\" class=\"dataframe\">\n",
       "  <thead>\n",
       "    <tr style=\"text-align: right;\">\n",
       "      <th></th>\n",
       "      <th>location</th>\n",
       "      <th>bath</th>\n",
       "      <th>balcony</th>\n",
       "      <th>price</th>\n",
       "      <th>House_size</th>\n",
       "      <th>new_total_sqft</th>\n",
       "    </tr>\n",
       "  </thead>\n",
       "  <tbody>\n",
       "    <tr>\n",
       "      <th>2</th>\n",
       "      <td>Uttarahalli</td>\n",
       "      <td>2.0</td>\n",
       "      <td>3.0</td>\n",
       "      <td>62.00</td>\n",
       "      <td>3.0</td>\n",
       "      <td>1440.0</td>\n",
       "    </tr>\n",
       "    <tr>\n",
       "      <th>3</th>\n",
       "      <td>Lingadheeranahalli</td>\n",
       "      <td>3.0</td>\n",
       "      <td>1.0</td>\n",
       "      <td>95.00</td>\n",
       "      <td>3.0</td>\n",
       "      <td>1521.0</td>\n",
       "    </tr>\n",
       "    <tr>\n",
       "      <th>4</th>\n",
       "      <td>Kothanur</td>\n",
       "      <td>2.0</td>\n",
       "      <td>1.0</td>\n",
       "      <td>51.00</td>\n",
       "      <td>2.0</td>\n",
       "      <td>1200.0</td>\n",
       "    </tr>\n",
       "    <tr>\n",
       "      <th>8</th>\n",
       "      <td>Marathahalli</td>\n",
       "      <td>3.0</td>\n",
       "      <td>1.0</td>\n",
       "      <td>63.25</td>\n",
       "      <td>3.0</td>\n",
       "      <td>1310.0</td>\n",
       "    </tr>\n",
       "    <tr>\n",
       "      <th>15</th>\n",
       "      <td>Mysore Road</td>\n",
       "      <td>2.0</td>\n",
       "      <td>2.0</td>\n",
       "      <td>73.50</td>\n",
       "      <td>2.0</td>\n",
       "      <td>1175.0</td>\n",
       "    </tr>\n",
       "    <tr>\n",
       "      <th>...</th>\n",
       "      <td>...</td>\n",
       "      <td>...</td>\n",
       "      <td>...</td>\n",
       "      <td>...</td>\n",
       "      <td>...</td>\n",
       "      <td>...</td>\n",
       "    </tr>\n",
       "    <tr>\n",
       "      <th>13304</th>\n",
       "      <td>Raja Rajeshwari Nagar</td>\n",
       "      <td>2.0</td>\n",
       "      <td>2.0</td>\n",
       "      <td>40.14</td>\n",
       "      <td>2.0</td>\n",
       "      <td>1187.0</td>\n",
       "    </tr>\n",
       "    <tr>\n",
       "      <th>13308</th>\n",
       "      <td>Bannerghatta Road</td>\n",
       "      <td>3.0</td>\n",
       "      <td>1.0</td>\n",
       "      <td>142.00</td>\n",
       "      <td>3.0</td>\n",
       "      <td>1527.0</td>\n",
       "    </tr>\n",
       "    <tr>\n",
       "      <th>13312</th>\n",
       "      <td>Bellandur</td>\n",
       "      <td>2.0</td>\n",
       "      <td>2.0</td>\n",
       "      <td>47.00</td>\n",
       "      <td>2.0</td>\n",
       "      <td>1262.0</td>\n",
       "    </tr>\n",
       "    <tr>\n",
       "      <th>13313</th>\n",
       "      <td>Uttarahalli</td>\n",
       "      <td>2.0</td>\n",
       "      <td>1.0</td>\n",
       "      <td>57.00</td>\n",
       "      <td>3.0</td>\n",
       "      <td>1345.0</td>\n",
       "    </tr>\n",
       "    <tr>\n",
       "      <th>13317</th>\n",
       "      <td>Raja Rajeshwari Nagar</td>\n",
       "      <td>2.0</td>\n",
       "      <td>1.0</td>\n",
       "      <td>60.00</td>\n",
       "      <td>2.0</td>\n",
       "      <td>1141.0</td>\n",
       "    </tr>\n",
       "  </tbody>\n",
       "</table>\n",
       "<p>4537 rows × 6 columns</p>\n",
       "</div>"
      ],
      "text/plain": [
       "                    location  bath  balcony   price  House_size  \\\n",
       "2                Uttarahalli   2.0      3.0   62.00         3.0   \n",
       "3         Lingadheeranahalli   3.0      1.0   95.00         3.0   \n",
       "4                   Kothanur   2.0      1.0   51.00         2.0   \n",
       "8               Marathahalli   3.0      1.0   63.25         3.0   \n",
       "15               Mysore Road   2.0      2.0   73.50         2.0   \n",
       "...                      ...   ...      ...     ...         ...   \n",
       "13304  Raja Rajeshwari Nagar   2.0      2.0   40.14         2.0   \n",
       "13308      Bannerghatta Road   3.0      1.0  142.00         3.0   \n",
       "13312              Bellandur   2.0      2.0   47.00         2.0   \n",
       "13313            Uttarahalli   2.0      1.0   57.00         3.0   \n",
       "13317  Raja Rajeshwari Nagar   2.0      1.0   60.00         2.0   \n",
       "\n",
       "       new_total_sqft  \n",
       "2              1440.0  \n",
       "3              1521.0  \n",
       "4              1200.0  \n",
       "8              1310.0  \n",
       "15             1175.0  \n",
       "...               ...  \n",
       "13304          1187.0  \n",
       "13308          1527.0  \n",
       "13312          1262.0  \n",
       "13313          1345.0  \n",
       "13317          1141.0  \n",
       "\n",
       "[4537 rows x 6 columns]"
      ]
     },
     "execution_count": 33,
     "metadata": {},
     "output_type": "execute_result"
    }
   ],
   "source": [
    "low, high = df[\"new_total_sqft\"].quantile([0.1, 0.9])\n",
    "mask_new_tot = df[\"new_total_sqft\"].between(low, high)\n",
    "df = df[mask_new_tot]\n",
    "df"
   ]
  },
  {
   "cell_type": "markdown",
   "id": "026a4060",
   "metadata": {},
   "source": [
    "## Dropping price column and checking for multicollinearity"
   ]
  },
  {
   "cell_type": "code",
   "execution_count": 17,
   "id": "9d293701",
   "metadata": {},
   "outputs": [
    {
     "data": {
      "text/html": [
       "<div>\n",
       "<style scoped>\n",
       "    .dataframe tbody tr th:only-of-type {\n",
       "        vertical-align: middle;\n",
       "    }\n",
       "\n",
       "    .dataframe tbody tr th {\n",
       "        vertical-align: top;\n",
       "    }\n",
       "\n",
       "    .dataframe thead th {\n",
       "        text-align: right;\n",
       "    }\n",
       "</style>\n",
       "<table border=\"1\" class=\"dataframe\">\n",
       "  <thead>\n",
       "    <tr style=\"text-align: right;\">\n",
       "      <th></th>\n",
       "      <th>bath</th>\n",
       "      <th>balcony</th>\n",
       "      <th>House_size</th>\n",
       "      <th>new_total_sqft</th>\n",
       "    </tr>\n",
       "  </thead>\n",
       "  <tbody>\n",
       "    <tr>\n",
       "      <th>bath</th>\n",
       "      <td>1.000000</td>\n",
       "      <td>0.194112</td>\n",
       "      <td>0.649555</td>\n",
       "      <td>0.628550</td>\n",
       "    </tr>\n",
       "    <tr>\n",
       "      <th>balcony</th>\n",
       "      <td>0.194112</td>\n",
       "      <td>1.000000</td>\n",
       "      <td>0.172444</td>\n",
       "      <td>0.250138</td>\n",
       "    </tr>\n",
       "    <tr>\n",
       "      <th>House_size</th>\n",
       "      <td>0.649555</td>\n",
       "      <td>0.172444</td>\n",
       "      <td>1.000000</td>\n",
       "      <td>0.643600</td>\n",
       "    </tr>\n",
       "    <tr>\n",
       "      <th>new_total_sqft</th>\n",
       "      <td>0.628550</td>\n",
       "      <td>0.250138</td>\n",
       "      <td>0.643600</td>\n",
       "      <td>1.000000</td>\n",
       "    </tr>\n",
       "  </tbody>\n",
       "</table>\n",
       "</div>"
      ],
      "text/plain": [
       "                    bath   balcony  House_size  new_total_sqft\n",
       "bath            1.000000  0.194112    0.649555        0.628550\n",
       "balcony         0.194112  1.000000    0.172444        0.250138\n",
       "House_size      0.649555  0.172444    1.000000        0.643600\n",
       "new_total_sqft  0.628550  0.250138    0.643600        1.000000"
      ]
     },
     "execution_count": 17,
     "metadata": {},
     "output_type": "execute_result"
    }
   ],
   "source": [
    "corr = df.select_dtypes(\"number\").drop(columns=[\"price\"]).corr()\n",
    "corr"
   ]
  },
  {
   "cell_type": "code",
   "execution_count": 18,
   "id": "82c1282e",
   "metadata": {},
   "outputs": [
    {
     "data": {
      "text/plain": [
       "<Axes: >"
      ]
     },
     "execution_count": 18,
     "metadata": {},
     "output_type": "execute_result"
    },
    {
     "data": {
      "image/png": "[encoded data removed]",
      "text/plain": [
       "<Figure size 640x480 with 2 Axes>"
      ]
     },
     "metadata": {},
     "output_type": "display_data"
    }
   ],
   "source": [
    "sns.heatmap(corr)"
   ]
  },
  {
   "cell_type": "code",
   "execution_count": 19,
   "id": "1f9935b3",
   "metadata": {},
   "outputs": [
    {
     "data": {
      "text/plain": [
       "0"
      ]
     },
     "execution_count": 19,
     "metadata": {},
     "output_type": "execute_result"
    }
   ],
   "source": [
    "df[\"new_total_sqft\"].isnull().sum()"
   ]
  },
  {
   "cell_type": "code",
   "execution_count": 20,
   "id": "dc58c420",
   "metadata": {},
   "outputs": [
    {
     "data": {
      "text/plain": [
       "location            1\n",
       "total_sqft          0\n",
       "bath                0\n",
       "balcony           126\n",
       "price               0\n",
       "House_size          0\n",
       "new_total_sqft      0\n",
       "dtype: int64"
      ]
     },
     "execution_count": 20,
     "metadata": {},
     "output_type": "execute_result"
    }
   ],
   "source": [
    "df.isnull().sum()"
   ]
  },
  {
   "cell_type": "code",
   "execution_count": 21,
   "id": "49b98f75",
   "metadata": {},
   "outputs": [
    {
     "data": {
      "text/plain": [
       "balcony\n",
       "2.0    3139\n",
       "1.0    2537\n",
       "3.0     860\n",
       "0.0     335\n",
       "Name: count, dtype: int64"
      ]
     },
     "execution_count": 21,
     "metadata": {},
     "output_type": "execute_result"
    }
   ],
   "source": [
    "df[\"balcony\"].value_counts()"
   ]
  },
  {
   "cell_type": "code",
   "execution_count": 22,
   "id": "404e3cda",
   "metadata": {},
   "outputs": [
    {
     "data": {
      "image/png": "[encoded data removed]",
      "text/plain": [
       "<Figure size 640x480 with 1 Axes>"
      ]
     },
     "metadata": {},
     "output_type": "display_data"
    }
   ],
   "source": [
    "sns.boxplot(df, y='price', x='House_size');"
   ]
  },
  {
   "cell_type": "code",
   "execution_count": 23,
   "id": "ca4ff342",
   "metadata": {},
   "outputs": [
    {
     "data": {
      "text/plain": [
       "0.34942737806394203"
      ]
     },
     "execution_count": 23,
     "metadata": {},
     "output_type": "execute_result"
    }
   ],
   "source": [
    "df['price'].corr(df['House_size'])"
   ]
  },
  {
   "cell_type": "code",
   "execution_count": 24,
   "id": "87c33a21",
   "metadata": {},
   "outputs": [],
   "source": [
    "df.dropna(subset=['location'], inplace=True, axis=0)"
   ]
  },
  {
   "cell_type": "code",
   "execution_count": 25,
   "id": "71b333ac",
   "metadata": {},
   "outputs": [
    {
     "data": {
      "text/plain": [
       "location            0\n",
       "total_sqft          0\n",
       "bath                0\n",
       "balcony           126\n",
       "price               0\n",
       "House_size          0\n",
       "new_total_sqft      0\n",
       "dtype: int64"
      ]
     },
     "execution_count": 25,
     "metadata": {},
     "output_type": "execute_result"
    }
   ],
   "source": [
    "df.isnull().sum()"
   ]
  },
  {
   "cell_type": "code",
   "execution_count": 26,
   "id": "9e7b302f",
   "metadata": {},
   "outputs": [
    {
     "data": {
      "text/plain": [
       "location            total_sqft  bath  balcony  price  House_size  new_total_sqft\n",
       "Haralur Road        1243        2.0   2.0      46.0   2.0         1243.0            16\n",
       "TC Palaya           1200        2.0   0.0      66.0   3.0         1200.0            13\n",
       "HSR Layout          1140        2.0   2.0      46.0   2.0         1140.0             9\n",
       "Haralur Road        1194        2.0   2.0      47.0   2.0         1194.0             8\n",
       "Parappana Agrahara  1194        2.0   2.0      47.0   2.0         1194.0             7\n",
       "                                                                                    ..\n",
       "Hebbal              1053        2.0   1.0      48.0   2.0         1053.0             1\n",
       "                    1040        2.0   2.0      46.0   2.0         1040.0             1\n",
       "                                      1.0      55.0   2.0         1040.0             1\n",
       "                                               50.0   2.0         1040.0             1\n",
       "tc.palya            1400        2.0   1.0      78.0   3.0         1400.0             1\n",
       "Name: count, Length: 6377, dtype: int64"
      ]
     },
     "execution_count": 26,
     "metadata": {},
     "output_type": "execute_result"
    }
   ],
   "source": [
    "df.value_counts()"
   ]
  },
  {
   "cell_type": "code",
   "execution_count": 27,
   "id": "1feb236f",
   "metadata": {},
   "outputs": [],
   "source": [
    "balcony_avg = df[\"balcony\"].mean().round()"
   ]
  },
  {
   "cell_type": "code",
   "execution_count": 28,
   "id": "3a051f4c",
   "metadata": {},
   "outputs": [
    {
     "name": "stderr",
     "output_type": "stream",
     "text": [
      "C:\\Users\\HP\\AppData\\Local\\Temp\\ipykernel_16808\\1595081261.py:1: FutureWarning: A value is trying to be set on a copy of a DataFrame or Series through chained assignment using an inplace method.\n",
      "The behavior will change in pandas 3.0. This inplace method will never work because the intermediate object on which we are setting values always behaves as a copy.\n",
      "\n",
      "For example, when doing 'df[col].method(value, inplace=True)', try using 'df.method({col: value}, inplace=True)' or df[col] = df[col].method(value) instead, to perform the operation inplace on the original object.\n",
      "\n",
      "\n",
      "  df['balcony'].fillna(balcony_avg, inplace=True)\n"
     ]
    }
   ],
   "source": [
    "df['balcony'].fillna(balcony_avg, inplace=True)"
   ]
  },
  {
   "cell_type": "code",
   "execution_count": 37,
   "id": "5f827507",
   "metadata": {},
   "outputs": [
    {
     "data": {
      "text/plain": [
       "(4492, 6)"
      ]
     },
     "execution_count": 37,
     "metadata": {},
     "output_type": "execute_result"
    }
   ],
   "source": [
    "df.shape"
   ]
  },
  {
   "cell_type": "code",
   "execution_count": 30,
   "id": "95d0fe9a",
   "metadata": {},
   "outputs": [
    {
     "data": {
      "text/html": [
       "<div>\n",
       "<style scoped>\n",
       "    .dataframe tbody tr th:only-of-type {\n",
       "        vertical-align: middle;\n",
       "    }\n",
       "\n",
       "    .dataframe tbody tr th {\n",
       "        vertical-align: top;\n",
       "    }\n",
       "\n",
       "    .dataframe thead th {\n",
       "        text-align: right;\n",
       "    }\n",
       "</style>\n",
       "<table border=\"1\" class=\"dataframe\">\n",
       "  <thead>\n",
       "    <tr style=\"text-align: right;\">\n",
       "      <th></th>\n",
       "      <th>location</th>\n",
       "      <th>total_sqft</th>\n",
       "      <th>bath</th>\n",
       "      <th>balcony</th>\n",
       "      <th>price</th>\n",
       "      <th>House_size</th>\n",
       "      <th>new_total_sqft</th>\n",
       "    </tr>\n",
       "  </thead>\n",
       "  <tbody>\n",
       "    <tr>\n",
       "      <th>2</th>\n",
       "      <td>Uttarahalli</td>\n",
       "      <td>1440</td>\n",
       "      <td>2.0</td>\n",
       "      <td>3.0</td>\n",
       "      <td>62.00</td>\n",
       "      <td>3.0</td>\n",
       "      <td>1440.0</td>\n",
       "    </tr>\n",
       "    <tr>\n",
       "      <th>3</th>\n",
       "      <td>Lingadheeranahalli</td>\n",
       "      <td>1521</td>\n",
       "      <td>3.0</td>\n",
       "      <td>1.0</td>\n",
       "      <td>95.00</td>\n",
       "      <td>3.0</td>\n",
       "      <td>1521.0</td>\n",
       "    </tr>\n",
       "    <tr>\n",
       "      <th>4</th>\n",
       "      <td>Kothanur</td>\n",
       "      <td>1200</td>\n",
       "      <td>2.0</td>\n",
       "      <td>1.0</td>\n",
       "      <td>51.00</td>\n",
       "      <td>2.0</td>\n",
       "      <td>1200.0</td>\n",
       "    </tr>\n",
       "    <tr>\n",
       "      <th>8</th>\n",
       "      <td>Marathahalli</td>\n",
       "      <td>1310</td>\n",
       "      <td>3.0</td>\n",
       "      <td>1.0</td>\n",
       "      <td>63.25</td>\n",
       "      <td>3.0</td>\n",
       "      <td>1310.0</td>\n",
       "    </tr>\n",
       "    <tr>\n",
       "      <th>10</th>\n",
       "      <td>Whitefield</td>\n",
       "      <td>1800</td>\n",
       "      <td>2.0</td>\n",
       "      <td>2.0</td>\n",
       "      <td>70.00</td>\n",
       "      <td>3.0</td>\n",
       "      <td>1800.0</td>\n",
       "    </tr>\n",
       "  </tbody>\n",
       "</table>\n",
       "</div>"
      ],
      "text/plain": [
       "              location total_sqft  bath  balcony  price  House_size  \\\n",
       "2          Uttarahalli       1440   2.0      3.0  62.00         3.0   \n",
       "3   Lingadheeranahalli       1521   3.0      1.0  95.00         3.0   \n",
       "4             Kothanur       1200   2.0      1.0  51.00         2.0   \n",
       "8         Marathahalli       1310   3.0      1.0  63.25         3.0   \n",
       "10          Whitefield       1800   2.0      2.0  70.00         3.0   \n",
       "\n",
       "    new_total_sqft  \n",
       "2           1440.0  \n",
       "3           1521.0  \n",
       "4           1200.0  \n",
       "8           1310.0  \n",
       "10          1800.0  "
      ]
     },
     "execution_count": 30,
     "metadata": {},
     "output_type": "execute_result"
    }
   ],
   "source": [
    "df.head()"
   ]
  },
  {
   "cell_type": "code",
   "execution_count": 31,
   "id": "5e59d980",
   "metadata": {},
   "outputs": [],
   "source": [
    "df.drop(columns=[\"total_sqft\"], inplace=True)"
   ]
  },
  {
   "cell_type": "code",
   "execution_count": 38,
   "id": "0fed9cec",
   "metadata": {},
   "outputs": [],
   "source": [
    "cleaned_df = df.copy()  # Create a copy of the original DataFrame\n",
    "# Perform cleaning operations on cleaned_df as needed\n",
    "\n",
    "# Save the cleaned DataFrame to a CSV file\n",
    "cleaned_df.to_csv('cleaned_data.csv', index=False)"
   ]
  },
  {
   "cell_type": "code",
   "execution_count": null,
   "id": "e790fe62",
   "metadata": {},
   "outputs": [],
   "source": []
  }
 ],
 "metadata": {
  "kernelspec": {
   "display_name": "Python 3 (ipykernel)",
   "language": "python",
   "name": "python3"
  },
  "language_info": {
   "codemirror_mode": {
    "name": "ipython",
    "version": 3
   },
   "file_extension": ".py",
   "mimetype": "text/x-python",
   "name": "python",
   "nbconvert_exporter": "python",
   "pygments_lexer": "ipython3",
   "version": "3.10.13"
  }
 },
 "nbformat": 4,
 "nbformat_minor": 5
}
